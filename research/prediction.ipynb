{
 "cells": [
  {
   "cell_type": "code",
   "execution_count": null,
   "metadata": {},
   "outputs": [
    {
     "name": "stdout",
     "output_type": "stream",
     "text": [
      "<class 'pandas.core.frame.DataFrame'>\n",
      "RangeIndex: 251552 entries, 0 to 251551\n",
      "Data columns (total 32 columns):\n",
      " #   Column                  Non-Null Count   Dtype  \n",
      "---  ------                  --------------   -----  \n",
      " 0   id                      251552 non-null  int64  \n",
      " 1   funded_amnt             251552 non-null  int64  \n",
      " 2   term                    251552 non-null  object \n",
      " 3   int_rate                251552 non-null  object \n",
      " 4   installment             251552 non-null  float64\n",
      " 5   emp_title               233760 non-null  object \n",
      " 6   emp_length              233983 non-null  object \n",
      " 7   home_ownership          251552 non-null  object \n",
      " 8   annual_inc              251552 non-null  float64\n",
      " 9   loan_status             251552 non-null  object \n",
      " 10  purpose                 251552 non-null  object \n",
      " 11  zip_code                251552 non-null  object \n",
      " 12  addr_state              251552 non-null  object \n",
      " 13  dti                     251358 non-null  float64\n",
      " 14  delinq_2yrs             251552 non-null  int64  \n",
      " 15  earliest_cr_line        251552 non-null  object \n",
      " 16  fico_range_high         251552 non-null  int64  \n",
      " 17  mths_since_last_delinq  127326 non-null  float64\n",
      " 18  open_acc                251552 non-null  int64  \n",
      " 19  revol_bal               251552 non-null  int64  \n",
      " 20  revol_util              251324 non-null  object \n",
      " 21  total_acc               251552 non-null  int64  \n",
      " 22  application_type        251552 non-null  object \n",
      " 23  annual_inc_joint        18336 non-null   float64\n",
      " 24  dti_joint               18335 non-null   float64\n",
      " 25  inq_last_12m            251536 non-null  float64\n",
      " 26  acc_open_past_24mths    251552 non-null  int64  \n",
      " 27  bc_util                 248553 non-null  float64\n",
      " 28  mort_acc                251552 non-null  int64  \n",
      " 29  num_accts_ever_120_pd   251552 non-null  int64  \n",
      " 30  percent_bc_gt_75        248636 non-null  float64\n",
      " 31  total_bal_ex_mort       251552 non-null  int64  \n",
      "dtypes: float64(9), int64(11), object(12)\n",
      "memory usage: 61.4+ MB\n"
     ]
    }
   ],
   "source": [
    "#nsa\n",
    "##we will start prediction pipeline\n",
    "\n",
    "import pandas as pd\n",
    "\n",
    "\n",
    "current_loans = pd.read_csv(\"./extracted_files//current_loans.csv\")\n",
    "current_loans.info()\n",
    "\n",
    "sample_current_loans = current_loans.sample(100)\n",
    "\n",
    "target = \"loan_status\"\n",
    "prediction = \"prediction\"\n",
    "numerical_features = [\"funded_amnt\", \"int_rate\", \"annual_inc\", \"dti\", \"fico_range_high\", \"revol_bal\", \"revol_util\", \"bc_util\", \"total_bal_ex_mort\", \"inq_last_12m\", \"num_accts_ever_120_pd\"]\n",
    "categorical_features = [\"term\", \"home_ownership\", \"delinq_2yrs\", \"mort_acc\"]\n"
   ]
  },
  {
   "cell_type": "code",
   "execution_count": 41,
   "metadata": {},
   "outputs": [
    {
     "name": "stdout",
     "output_type": "stream",
     "text": [
      "<class 'pandas.core.frame.DataFrame'>\n",
      "Index: 100 entries, 119384 to 235232\n",
      "Data columns (total 15 columns):\n",
      " #   Column                 Non-Null Count  Dtype  \n",
      "---  ------                 --------------  -----  \n",
      " 0   funded_amnt            100 non-null    int64  \n",
      " 1   int_rate               100 non-null    object \n",
      " 2   annual_inc             100 non-null    float64\n",
      " 3   dti                    100 non-null    float64\n",
      " 4   fico_range_high        100 non-null    int64  \n",
      " 5   revol_bal              100 non-null    int64  \n",
      " 6   revol_util             100 non-null    object \n",
      " 7   bc_util                100 non-null    float64\n",
      " 8   total_bal_ex_mort      100 non-null    int64  \n",
      " 9   inq_last_12m           100 non-null    float64\n",
      " 10  num_accts_ever_120_pd  100 non-null    int64  \n",
      " 11  term                   100 non-null    object \n",
      " 12  home_ownership         100 non-null    object \n",
      " 13  delinq_2yrs            100 non-null    int64  \n",
      " 14  mort_acc               100 non-null    int64  \n",
      "dtypes: float64(4), int64(7), object(4)\n",
      "memory usage: 12.5+ KB\n",
      "(100, 15)\n"
     ]
    }
   ],
   "source": [
    "df = pd.concat([sample_current_loans[numerical_features + categorical_features]], axis=1, ignore_index=False)\n",
    "df.info()\n",
    "print(df.shape)"
   ]
  },
  {
   "cell_type": "code",
   "execution_count": 42,
   "metadata": {},
   "outputs": [],
   "source": [
    "import numpy as np\n",
    "## data preprocessing\n",
    "\n",
    "#int_rate we have to remove % sign so that we can \n",
    "df[\"int_rate\"] = df[\"int_rate\"].apply(lambda x: x.replace('%', ''))\n",
    "df['int_rate'] = df['int_rate'].astype('float64')\n"
   ]
  },
  {
   "cell_type": "code",
   "execution_count": 43,
   "metadata": {},
   "outputs": [
    {
     "data": {
      "text/plain": [
       "<bound method Series.unique of revol_util\n",
       "33.6    2\n",
       "42.8    2\n",
       "81.1    2\n",
       "86.7    2\n",
       "39.8    2\n",
       "       ..\n",
       "59.3    1\n",
       "68.1    1\n",
       "45.8    1\n",
       "27.9    1\n",
       "76.7    1\n",
       "Name: count, Length: 95, dtype: int64>"
      ]
     },
     "execution_count": 43,
     "metadata": {},
     "output_type": "execute_result"
    }
   ],
   "source": [
    "#revol_util\n",
    "df['revol_util'] = df['revol_util'].apply(lambda x: 0 if x == 'nan' else x)\n",
    "df['revol_util'] = df['revol_util'].apply(lambda x: str(x).replace('%', ''))\n",
    "df['revol_util'] = df['revol_util'].astype('float64')\n",
    "\n",
    "df['revol_util'].value_counts().unique"
   ]
  },
  {
   "cell_type": "code",
   "execution_count": 44,
   "metadata": {},
   "outputs": [
    {
     "data": {
      "text/plain": [
       "119384    1\n",
       "97002     1\n",
       "147249    1\n",
       "41756     1\n",
       "98706     1\n",
       "         ..\n",
       "10546     1\n",
       "48760     1\n",
       "139503    1\n",
       "197199    1\n",
       "235232    1\n",
       "Name: term, Length: 100, dtype: Int32"
      ]
     },
     "execution_count": 44,
     "metadata": {},
     "output_type": "execute_result"
    }
   ],
   "source": [
    "##here categorical data will start\n",
    "\n",
    "#term\n",
    "df['term'] = df['term'].apply(lambda x: 0 if x=='36 months' else 1)\n",
    "df['term'].astype('Int32')"
   ]
  },
  {
   "cell_type": "code",
   "execution_count": 45,
   "metadata": {},
   "outputs": [
    {
     "name": "stderr",
     "output_type": "stream",
     "text": [
      "C:\\Users\\ujjwa\\AppData\\Local\\Temp\\ipykernel_7452\\3670027532.py:2: FutureWarning: Downcasting behavior in `replace` is deprecated and will be removed in a future version. To retain the old behavior, explicitly call `result.infer_objects(copy=False)`. To opt-in to the future behavior, set `pd.set_option('future.no_silent_downcasting', True)`\n",
      "  df['home_ownership'] = df['home_ownership'].replace(['RENT', 'MORTGAGE', 'OWN', 'ANY','NONE'], [0,1,2,3,3])\n"
     ]
    },
    {
     "data": {
      "text/plain": [
       "<bound method Series.unique of home_ownership\n",
       "1    44\n",
       "0    43\n",
       "2    13\n",
       "Name: count, dtype: int64>"
      ]
     },
     "execution_count": 45,
     "metadata": {},
     "output_type": "execute_result"
    }
   ],
   "source": [
    "#home_ownership ['RENT', 'MORTGAGE', 'OWN', 'ANY'] => [0,1,2,3]\n",
    "df['home_ownership'] = df['home_ownership'].replace(['RENT', 'MORTGAGE', 'OWN', 'ANY','NONE'], [0,1,2,3,3])\n",
    "\n",
    "# df['home_ownership'] = df['home_ownership'].astype('Int32')\n",
    "df['home_ownership'].value_counts().unique\n",
    "# df.info()"
   ]
  },
  {
   "cell_type": "code",
   "execution_count": 46,
   "metadata": {},
   "outputs": [
    {
     "data": {
      "text/plain": [
       "array([0, 1, 5, 4, 2])"
      ]
     },
     "execution_count": 46,
     "metadata": {},
     "output_type": "execute_result"
    }
   ],
   "source": [
    "df['delinq_2yrs'].unique()"
   ]
  },
  {
   "cell_type": "code",
   "execution_count": 47,
   "metadata": {},
   "outputs": [
    {
     "data": {
      "text/plain": [
       "<bound method Series.unique of inq_last_12m\n",
       "1     26\n",
       "0     23\n",
       "2     15\n",
       "3     13\n",
       "4     10\n",
       "5      4\n",
       "6      4\n",
       "8      2\n",
       "10     1\n",
       "7      1\n",
       "11     1\n",
       "Name: count, dtype: int64>"
      ]
     },
     "execution_count": 47,
     "metadata": {},
     "output_type": "execute_result"
    }
   ],
   "source": [
    "# inq_last_12m Numeric feature\n",
    "df.replace(np.nan, 0, inplace=True)\n",
    "df['inq_last_12m'] = df['inq_last_12m'].astype('int64')\n",
    "\n",
    "df['inq_last_12m'].value_counts().unique"
   ]
  },
  {
   "cell_type": "code",
   "execution_count": 48,
   "metadata": {},
   "outputs": [
    {
     "name": "stdout",
     "output_type": "stream",
     "text": [
      "(100, 15)\n",
      "<class 'pandas.core.frame.DataFrame'>\n",
      "Index: 100 entries, 119384 to 235232\n",
      "Data columns (total 15 columns):\n",
      " #   Column                 Non-Null Count  Dtype  \n",
      "---  ------                 --------------  -----  \n",
      " 0   funded_amnt            100 non-null    int64  \n",
      " 1   int_rate               100 non-null    float64\n",
      " 2   annual_inc             100 non-null    float64\n",
      " 3   dti                    100 non-null    float64\n",
      " 4   fico_range_high        100 non-null    int64  \n",
      " 5   revol_bal              100 non-null    int64  \n",
      " 6   revol_util             100 non-null    float64\n",
      " 7   bc_util                100 non-null    float64\n",
      " 8   total_bal_ex_mort      100 non-null    int64  \n",
      " 9   inq_last_12m           100 non-null    int64  \n",
      " 10  num_accts_ever_120_pd  100 non-null    int64  \n",
      " 11  term                   100 non-null    int64  \n",
      " 12  home_ownership         100 non-null    int64  \n",
      " 13  delinq_2yrs            100 non-null    int64  \n",
      " 14  mort_acc               100 non-null    int64  \n",
      "dtypes: float64(5), int64(10)\n",
      "memory usage: 12.5 KB\n"
     ]
    }
   ],
   "source": [
    "print(df.shape)\n",
    "df.head()\n",
    "df.info()"
   ]
  },
  {
   "cell_type": "code",
   "execution_count": 49,
   "metadata": {},
   "outputs": [
    {
     "data": {
      "text/plain": [
       "np.int64(0)"
      ]
     },
     "execution_count": 49,
     "metadata": {},
     "output_type": "execute_result"
    }
   ],
   "source": [
    "df['dti'].isnull().sum()"
   ]
  },
  {
   "cell_type": "code",
   "execution_count": 50,
   "metadata": {},
   "outputs": [],
   "source": [
    "import pickle\n",
    "\n",
    "# Open the pickle file in binary read mode\n",
    "with open('../artifacts/preprocessing_object.pickle', 'rb') as file:\n",
    "    # Load the data from the pickle file\n",
    "    preprocessor = pickle.load(file)"
   ]
  },
  {
   "cell_type": "code",
   "execution_count": 51,
   "metadata": {},
   "outputs": [],
   "source": [
    "prediction_features = preprocessor.transform(df)\n"
   ]
  },
  {
   "cell_type": "code",
   "execution_count": 52,
   "metadata": {},
   "outputs": [
    {
     "data": {
      "text/plain": [
       "array([[ 2.36778917,  0.49392238,  0.2684648 , ...,  2.77559937,\n",
       "         0.        ,  0.        ],\n",
       "       [ 1.79674532,  2.72173962, -0.00963931, ...,  0.        ,\n",
       "         0.        ,  0.        ],\n",
       "       [-0.48743007,  0.49392238, -0.56584753, ...,  0.        ,\n",
       "         0.        ,  0.        ],\n",
       "       ...,\n",
       "       [-0.7158476 , -0.33817688, -0.03744972, ...,  0.        ,\n",
       "         0.        ,  0.        ],\n",
       "       [ 0.08361378,  0.51296356,  0.7412418 , ...,  2.77559937,\n",
       "         0.        ,  0.        ],\n",
       "       [-1.28689145, -0.45813627, -1.26110781, ...,  0.        ,\n",
       "         0.        ,  0.        ]])"
      ]
     },
     "execution_count": 52,
     "metadata": {},
     "output_type": "execute_result"
    }
   ],
   "source": [
    "prediction_features"
   ]
  },
  {
   "cell_type": "code",
   "execution_count": 53,
   "metadata": {},
   "outputs": [],
   "source": [
    "# Open the pickle file in binary read mode\n",
    "with open('../artifacts/best_model.pickle', 'rb') as file:\n",
    "    # Load the data from the pickle file\n",
    "    best_model = pickle.load(file)\n",
    "    "
   ]
  },
  {
   "cell_type": "code",
   "execution_count": 54,
   "metadata": {},
   "outputs": [
    {
     "data": {
      "text/plain": [
       "array([0.45030265, 0.38691123, 0.67404018, 0.52705303, 0.49734328,\n",
       "       0.37407197, 0.40393764, 0.72992358, 0.78190197, 0.41304206,\n",
       "       0.92567541, 0.70187274, 0.66131607, 0.22597618, 0.36298971,\n",
       "       0.65973264, 0.57005523, 0.22403524, 0.45461353, 0.51312709,\n",
       "       0.74124292, 0.70528945, 0.51026045, 0.41397242, 0.545644  ,\n",
       "       0.68673365, 0.86882244, 0.42659503, 0.70289679, 0.69970084,\n",
       "       0.77269093, 0.53336942, 0.25521939, 0.71378966, 0.62853681,\n",
       "       0.75622422, 0.5533958 , 0.75779869, 0.69214649, 0.76687232,\n",
       "       0.26386418, 0.43499111, 0.7101492 , 0.66509211, 0.59512001,\n",
       "       0.76843815, 0.81777522, 0.55942751, 0.14045883, 0.49062272,\n",
       "       0.45129506, 0.60091246, 0.43413408, 0.39177307, 0.34043752,\n",
       "       0.62527334, 0.49495592, 0.43375828, 0.56636375, 0.78683466,\n",
       "       0.57033863, 0.78795936, 0.53773689, 0.77101411, 0.68692437,\n",
       "       0.62709149, 0.30587577, 0.67105864, 0.5302305 , 0.68584072,\n",
       "       0.36731714, 0.3536338 , 0.66780914, 0.35259411, 0.74563553,\n",
       "       0.70611049, 0.83370066, 0.87601993, 0.50378179, 0.0712292 ,\n",
       "       0.69413791, 0.86518203, 0.7202118 , 0.26377703, 0.54080273,\n",
       "       0.6593764 , 0.46183579, 0.34436155, 0.77629307, 0.5331015 ,\n",
       "       0.24242502, 0.35852421, 0.44630042, 0.29586854, 0.32581193,\n",
       "       0.44806184, 0.90138764, 0.35708709, 0.42205952, 0.39009208])"
      ]
     },
     "execution_count": 54,
     "metadata": {},
     "output_type": "execute_result"
    }
   ],
   "source": [
    "predicted_probabilities = best_model.predict_proba(prediction_features)[:,1] # this is for the class 1\n",
    "predicted_probabilities"
   ]
  },
  {
   "cell_type": "code",
   "execution_count": 55,
   "metadata": {},
   "outputs": [],
   "source": [
    "sample_current_loans['investments'] = 0\n",
    "sample_current_loans['predictions'] = predicted_probabilities\n",
    "sample_current_loans.to_csv(\"./extracted_files/sample_current_loans_with_predictions.csv\", index=False)"
   ]
  },
  {
   "cell_type": "code",
   "execution_count": 56,
   "metadata": {},
   "outputs": [
    {
     "data": {
      "text/html": [
       "<div>\n",
       "<style scoped>\n",
       "    .dataframe tbody tr th:only-of-type {\n",
       "        vertical-align: middle;\n",
       "    }\n",
       "\n",
       "    .dataframe tbody tr th {\n",
       "        vertical-align: top;\n",
       "    }\n",
       "\n",
       "    .dataframe thead th {\n",
       "        text-align: right;\n",
       "    }\n",
       "</style>\n",
       "<table border=\"1\" class=\"dataframe\">\n",
       "  <thead>\n",
       "    <tr style=\"text-align: right;\">\n",
       "      <th></th>\n",
       "      <th>id</th>\n",
       "      <th>funded_amnt</th>\n",
       "      <th>term</th>\n",
       "      <th>int_rate</th>\n",
       "      <th>installment</th>\n",
       "      <th>emp_title</th>\n",
       "      <th>emp_length</th>\n",
       "      <th>home_ownership</th>\n",
       "      <th>annual_inc</th>\n",
       "      <th>loan_status</th>\n",
       "      <th>...</th>\n",
       "      <th>dti_joint</th>\n",
       "      <th>inq_last_12m</th>\n",
       "      <th>acc_open_past_24mths</th>\n",
       "      <th>bc_util</th>\n",
       "      <th>mort_acc</th>\n",
       "      <th>num_accts_ever_120_pd</th>\n",
       "      <th>percent_bc_gt_75</th>\n",
       "      <th>total_bal_ex_mort</th>\n",
       "      <th>investments</th>\n",
       "      <th>predictions</th>\n",
       "    </tr>\n",
       "  </thead>\n",
       "  <tbody>\n",
       "    <tr>\n",
       "      <th>0</th>\n",
       "      <td>96414500</td>\n",
       "      <td>35000</td>\n",
       "      <td>36 months</td>\n",
       "      <td>16.99%</td>\n",
       "      <td>1247.68</td>\n",
       "      <td>Account Manager</td>\n",
       "      <td>&lt; 1 year</td>\n",
       "      <td>MORTGAGE</td>\n",
       "      <td>80000.0</td>\n",
       "      <td>Current</td>\n",
       "      <td>...</td>\n",
       "      <td>NaN</td>\n",
       "      <td>0.0</td>\n",
       "      <td>5</td>\n",
       "      <td>51.1</td>\n",
       "      <td>2</td>\n",
       "      <td>0</td>\n",
       "      <td>33.3</td>\n",
       "      <td>28617</td>\n",
       "      <td>0</td>\n",
       "      <td>0.450303</td>\n",
       "    </tr>\n",
       "    <tr>\n",
       "      <th>1</th>\n",
       "      <td>93532550</td>\n",
       "      <td>30000</td>\n",
       "      <td>60 months</td>\n",
       "      <td>28.69%</td>\n",
       "      <td>946.61</td>\n",
       "      <td>Rig Supervisor</td>\n",
       "      <td>8 years</td>\n",
       "      <td>MORTGAGE</td>\n",
       "      <td>70000.0</td>\n",
       "      <td>Current</td>\n",
       "      <td>...</td>\n",
       "      <td>NaN</td>\n",
       "      <td>4.0</td>\n",
       "      <td>2</td>\n",
       "      <td>55.8</td>\n",
       "      <td>1</td>\n",
       "      <td>0</td>\n",
       "      <td>0.0</td>\n",
       "      <td>37229</td>\n",
       "      <td>0</td>\n",
       "      <td>0.386911</td>\n",
       "    </tr>\n",
       "    <tr>\n",
       "      <th>2</th>\n",
       "      <td>105537312</td>\n",
       "      <td>10000</td>\n",
       "      <td>36 months</td>\n",
       "      <td>16.99%</td>\n",
       "      <td>356.48</td>\n",
       "      <td>Carpenter</td>\n",
       "      <td>10+ years</td>\n",
       "      <td>OWN</td>\n",
       "      <td>50000.0</td>\n",
       "      <td>Current</td>\n",
       "      <td>...</td>\n",
       "      <td>NaN</td>\n",
       "      <td>5.0</td>\n",
       "      <td>9</td>\n",
       "      <td>38.5</td>\n",
       "      <td>1</td>\n",
       "      <td>0</td>\n",
       "      <td>25.0</td>\n",
       "      <td>33971</td>\n",
       "      <td>0</td>\n",
       "      <td>0.674040</td>\n",
       "    </tr>\n",
       "    <tr>\n",
       "      <th>3</th>\n",
       "      <td>76372781</td>\n",
       "      <td>18275</td>\n",
       "      <td>60 months</td>\n",
       "      <td>28.18%</td>\n",
       "      <td>571.00</td>\n",
       "      <td>Assistant product manager</td>\n",
       "      <td>&lt; 1 year</td>\n",
       "      <td>OWN</td>\n",
       "      <td>65000.0</td>\n",
       "      <td>Current</td>\n",
       "      <td>...</td>\n",
       "      <td>NaN</td>\n",
       "      <td>4.0</td>\n",
       "      <td>12</td>\n",
       "      <td>90.9</td>\n",
       "      <td>1</td>\n",
       "      <td>0</td>\n",
       "      <td>100.0</td>\n",
       "      <td>75499</td>\n",
       "      <td>0</td>\n",
       "      <td>0.527053</td>\n",
       "    </tr>\n",
       "    <tr>\n",
       "      <th>4</th>\n",
       "      <td>97414793</td>\n",
       "      <td>35000</td>\n",
       "      <td>60 months</td>\n",
       "      <td>29.99%</td>\n",
       "      <td>1132.16</td>\n",
       "      <td>Computer / Compliance</td>\n",
       "      <td>10+ years</td>\n",
       "      <td>MORTGAGE</td>\n",
       "      <td>98000.0</td>\n",
       "      <td>Current</td>\n",
       "      <td>...</td>\n",
       "      <td>NaN</td>\n",
       "      <td>6.0</td>\n",
       "      <td>9</td>\n",
       "      <td>47.6</td>\n",
       "      <td>1</td>\n",
       "      <td>0</td>\n",
       "      <td>33.3</td>\n",
       "      <td>84759</td>\n",
       "      <td>0</td>\n",
       "      <td>0.497343</td>\n",
       "    </tr>\n",
       "  </tbody>\n",
       "</table>\n",
       "<p>5 rows × 34 columns</p>\n",
       "</div>"
      ],
      "text/plain": [
       "          id  funded_amnt        term int_rate  installment  \\\n",
       "0   96414500        35000   36 months   16.99%      1247.68   \n",
       "1   93532550        30000   60 months   28.69%       946.61   \n",
       "2  105537312        10000   36 months   16.99%       356.48   \n",
       "3   76372781        18275   60 months   28.18%       571.00   \n",
       "4   97414793        35000   60 months   29.99%      1132.16   \n",
       "\n",
       "                   emp_title emp_length home_ownership  annual_inc  \\\n",
       "0            Account Manager   < 1 year       MORTGAGE     80000.0   \n",
       "1            Rig Supervisor     8 years       MORTGAGE     70000.0   \n",
       "2                  Carpenter  10+ years            OWN     50000.0   \n",
       "3  Assistant product manager   < 1 year            OWN     65000.0   \n",
       "4      Computer / Compliance  10+ years       MORTGAGE     98000.0   \n",
       "\n",
       "  loan_status  ... dti_joint inq_last_12m acc_open_past_24mths  bc_util  \\\n",
       "0     Current  ...       NaN          0.0                    5     51.1   \n",
       "1     Current  ...       NaN          4.0                    2     55.8   \n",
       "2     Current  ...       NaN          5.0                    9     38.5   \n",
       "3     Current  ...       NaN          4.0                   12     90.9   \n",
       "4     Current  ...       NaN          6.0                    9     47.6   \n",
       "\n",
       "   mort_acc num_accts_ever_120_pd  percent_bc_gt_75  total_bal_ex_mort  \\\n",
       "0         2                     0              33.3              28617   \n",
       "1         1                     0               0.0              37229   \n",
       "2         1                     0              25.0              33971   \n",
       "3         1                     0             100.0              75499   \n",
       "4         1                     0              33.3              84759   \n",
       "\n",
       "   investments  predictions  \n",
       "0            0     0.450303  \n",
       "1            0     0.386911  \n",
       "2            0     0.674040  \n",
       "3            0     0.527053  \n",
       "4            0     0.497343  \n",
       "\n",
       "[5 rows x 34 columns]"
      ]
     },
     "execution_count": 56,
     "metadata": {},
     "output_type": "execute_result"
    }
   ],
   "source": [
    "import pandas as pd\n",
    "df = pd.read_csv('./extracted_files/sample_current_loans_with_predictions.csv')\n",
    "df.head()"
   ]
  },
  {
   "cell_type": "code",
   "execution_count": 57,
   "metadata": {},
   "outputs": [
    {
     "data": {
      "text/html": [
       "<div>\n",
       "<style scoped>\n",
       "    .dataframe tbody tr th:only-of-type {\n",
       "        vertical-align: middle;\n",
       "    }\n",
       "\n",
       "    .dataframe tbody tr th {\n",
       "        vertical-align: top;\n",
       "    }\n",
       "\n",
       "    .dataframe thead th {\n",
       "        text-align: right;\n",
       "    }\n",
       "</style>\n",
       "<table border=\"1\" class=\"dataframe\">\n",
       "  <thead>\n",
       "    <tr style=\"text-align: right;\">\n",
       "      <th></th>\n",
       "      <th>id</th>\n",
       "      <th>predictions</th>\n",
       "      <th>funded_amnt</th>\n",
       "      <th>term</th>\n",
       "      <th>int_rate</th>\n",
       "      <th>investments</th>\n",
       "    </tr>\n",
       "  </thead>\n",
       "  <tbody>\n",
       "    <tr>\n",
       "      <th>0</th>\n",
       "      <td>96414500</td>\n",
       "      <td>0.450303</td>\n",
       "      <td>35000</td>\n",
       "      <td>36 months</td>\n",
       "      <td>16.99%</td>\n",
       "      <td>0</td>\n",
       "    </tr>\n",
       "    <tr>\n",
       "      <th>1</th>\n",
       "      <td>93532550</td>\n",
       "      <td>0.386911</td>\n",
       "      <td>30000</td>\n",
       "      <td>60 months</td>\n",
       "      <td>28.69%</td>\n",
       "      <td>0</td>\n",
       "    </tr>\n",
       "    <tr>\n",
       "      <th>2</th>\n",
       "      <td>105537312</td>\n",
       "      <td>0.674040</td>\n",
       "      <td>10000</td>\n",
       "      <td>36 months</td>\n",
       "      <td>16.99%</td>\n",
       "      <td>0</td>\n",
       "    </tr>\n",
       "    <tr>\n",
       "      <th>3</th>\n",
       "      <td>76372781</td>\n",
       "      <td>0.527053</td>\n",
       "      <td>18275</td>\n",
       "      <td>60 months</td>\n",
       "      <td>28.18%</td>\n",
       "      <td>0</td>\n",
       "    </tr>\n",
       "    <tr>\n",
       "      <th>4</th>\n",
       "      <td>97414793</td>\n",
       "      <td>0.497343</td>\n",
       "      <td>35000</td>\n",
       "      <td>60 months</td>\n",
       "      <td>29.99%</td>\n",
       "      <td>0</td>\n",
       "    </tr>\n",
       "  </tbody>\n",
       "</table>\n",
       "</div>"
      ],
      "text/plain": [
       "          id  predictions  funded_amnt        term int_rate  investments\n",
       "0   96414500     0.450303        35000   36 months   16.99%            0\n",
       "1   93532550     0.386911        30000   60 months   28.69%            0\n",
       "2  105537312     0.674040        10000   36 months   16.99%            0\n",
       "3   76372781     0.527053        18275   60 months   28.18%            0\n",
       "4   97414793     0.497343        35000   60 months   29.99%            0"
      ]
     },
     "execution_count": 57,
     "metadata": {},
     "output_type": "execute_result"
    }
   ],
   "source": [
    "df = df[['id', 'predictions', 'funded_amnt', 'term', 'int_rate', 'investments']]\n",
    "df.head()"
   ]
  }
 ],
 "metadata": {
  "kernelspec": {
   "display_name": "Python 3",
   "language": "python",
   "name": "python3"
  },
  "language_info": {
   "codemirror_mode": {
    "name": "ipython",
    "version": 3
   },
   "file_extension": ".py",
   "mimetype": "text/x-python",
   "name": "python",
   "nbconvert_exporter": "python",
   "pygments_lexer": "ipython3",
   "version": "3.12.0"
  }
 },
 "nbformat": 4,
 "nbformat_minor": 2
}
