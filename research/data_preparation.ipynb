{
 "cells": [
  {
   "cell_type": "code",
   "execution_count": 2,
   "metadata": {},
   "outputs": [],
   "source": [
    "import pandas as pd\n"
   ]
  },
  {
   "cell_type": "code",
   "execution_count": 3,
   "metadata": {},
   "outputs": [
    {
     "data": {
      "text/plain": [
       "(438991, 32)"
      ]
     },
     "execution_count": 3,
     "metadata": {},
     "output_type": "execute_result"
    }
   ],
   "source": [
    "data = pd.read_csv(\"./extracted_files/data.csv\")\n",
    "data.shape"
   ]
  },
  {
   "cell_type": "code",
   "execution_count": 4,
   "metadata": {},
   "outputs": [
    {
     "data": {
      "text/plain": [
       "<bound method Series.unique of loan_status\n",
       "Current        251552\n",
       "Fully Paid     132055\n",
       "Charged Off     40902\n",
       "Late            14482\n",
       "Name: count, dtype: int64>"
      ]
     },
     "execution_count": 4,
     "metadata": {},
     "output_type": "execute_result"
    }
   ],
   "source": [
    "data.loan_status.value_counts().unique"
   ]
  },
  {
   "cell_type": "code",
   "execution_count": 5,
   "metadata": {},
   "outputs": [
    {
     "name": "stdout",
     "output_type": "stream",
     "text": [
      "251552\n"
     ]
    }
   ],
   "source": [
    "current_loans = data[data[\"loan_status\"] == \"Current\"]\n",
    "\n",
    "current_loans.to_csv('extracted_files/current_loans.csv', index=False)\n",
    "print(current_loans.shape[0])"
   ]
  },
  {
   "cell_type": "code",
   "execution_count": 6,
   "metadata": {},
   "outputs": [
    {
     "data": {
      "text/plain": [
       "(187439, 32)"
      ]
     },
     "execution_count": 6,
     "metadata": {},
     "output_type": "execute_result"
    }
   ],
   "source": [
    "df = data[data[\"loan_status\"] != \"Current\"]\n",
    "df.shape"
   ]
  },
  {
   "cell_type": "code",
   "execution_count": 7,
   "metadata": {},
   "outputs": [
    {
     "data": {
      "text/plain": [
       "loan_status\n",
       "Fully Paid     132055\n",
       "Charged Off     40902\n",
       "Late            14482\n",
       "Name: count, dtype: int64"
      ]
     },
     "execution_count": 7,
     "metadata": {},
     "output_type": "execute_result"
    }
   ],
   "source": [
    "df[\"loan_status\"].value_counts()\n",
    "\n"
   ]
  },
  {
   "cell_type": "code",
   "execution_count": 8,
   "metadata": {},
   "outputs": [
    {
     "data": {
      "text/plain": [
       "Index(['id', 'funded_amnt', 'term', 'int_rate', 'installment', 'emp_title',\n",
       "       'emp_length', 'home_ownership', 'annual_inc', 'loan_status', 'purpose',\n",
       "       'zip_code', 'addr_state', 'dti', 'delinq_2yrs', 'earliest_cr_line',\n",
       "       'fico_range_high', 'mths_since_last_delinq', 'open_acc', 'revol_bal',\n",
       "       'revol_util', 'total_acc', 'application_type', 'annual_inc_joint',\n",
       "       'dti_joint', 'inq_last_12m', 'acc_open_past_24mths', 'bc_util',\n",
       "       'mort_acc', 'num_accts_ever_120_pd', 'percent_bc_gt_75',\n",
       "       'total_bal_ex_mort'],\n",
       "      dtype='object')"
      ]
     },
     "execution_count": 8,
     "metadata": {},
     "output_type": "execute_result"
    }
   ],
   "source": [
    "df.columns"
   ]
  },
  {
   "cell_type": "code",
   "execution_count": 9,
   "metadata": {},
   "outputs": [
    {
     "name": "stdout",
     "output_type": "stream",
     "text": [
      "<class 'pandas.core.frame.DataFrame'>\n",
      "Index: 187439 entries, 0 to 438971\n",
      "Data columns (total 32 columns):\n",
      " #   Column                  Non-Null Count   Dtype  \n",
      "---  ------                  --------------   -----  \n",
      " 0   id                      187439 non-null  int64  \n",
      " 1   funded_amnt             187439 non-null  int64  \n",
      " 2   term                    187439 non-null  object \n",
      " 3   int_rate                187439 non-null  object \n",
      " 4   installment             187439 non-null  float64\n",
      " 5   emp_title               174864 non-null  object \n",
      " 6   emp_length              174995 non-null  object \n",
      " 7   home_ownership          187439 non-null  object \n",
      " 8   annual_inc              187439 non-null  float64\n",
      " 9   loan_status             187439 non-null  object \n",
      " 10  purpose                 187439 non-null  object \n",
      " 11  zip_code                187439 non-null  object \n",
      " 12  addr_state              187439 non-null  object \n",
      " 13  dti                     187348 non-null  float64\n",
      " 14  delinq_2yrs             187439 non-null  int64  \n",
      " 15  earliest_cr_line        187439 non-null  object \n",
      " 16  fico_range_high         187439 non-null  int64  \n",
      " 17  mths_since_last_delinq  97989 non-null   float64\n",
      " 18  open_acc                187439 non-null  int64  \n",
      " 19  revol_bal               187439 non-null  int64  \n",
      " 20  revol_util              187308 non-null  object \n",
      " 21  total_acc               187439 non-null  int64  \n",
      " 22  application_type        187439 non-null  object \n",
      " 23  annual_inc_joint        7473 non-null    float64\n",
      " 24  dti_joint               7473 non-null    float64\n",
      " 25  inq_last_12m            187428 non-null  float64\n",
      " 26  acc_open_past_24mths    187439 non-null  int64  \n",
      " 27  bc_util                 185049 non-null  float64\n",
      " 28  mort_acc                187439 non-null  int64  \n",
      " 29  num_accts_ever_120_pd   187439 non-null  int64  \n",
      " 30  percent_bc_gt_75        185138 non-null  float64\n",
      " 31  total_bal_ex_mort       187439 non-null  int64  \n",
      "dtypes: float64(9), int64(11), object(12)\n",
      "memory usage: 47.2+ MB\n"
     ]
    }
   ],
   "source": [
    "df.info()"
   ]
  },
  {
   "cell_type": "code",
   "execution_count": 10,
   "metadata": {},
   "outputs": [
    {
     "name": "stderr",
     "output_type": "stream",
     "text": [
      "C:\\Users\\ujjwa\\AppData\\Local\\Temp\\ipykernel_11180\\2824203601.py:4: SettingWithCopyWarning: \n",
      "A value is trying to be set on a copy of a slice from a DataFrame.\n",
      "Try using .loc[row_indexer,col_indexer] = value instead\n",
      "\n",
      "See the caveats in the documentation: https://pandas.pydata.org/pandas-docs/stable/user_guide/indexing.html#returning-a-view-versus-a-copy\n",
      "  df[\"loan_status\"] = df[\"loan_status\"].apply(lambda x: 1 if x==\"Fully Paid\" else 0)\n"
     ]
    },
    {
     "data": {
      "text/plain": [
       "0         1\n",
       "5         1\n",
       "7         1\n",
       "8         1\n",
       "10        1\n",
       "         ..\n",
       "438956    1\n",
       "438957    0\n",
       "438963    1\n",
       "438966    0\n",
       "438971    1\n",
       "Name: loan_status, Length: 187439, dtype: int64"
      ]
     },
     "execution_count": 10,
     "metadata": {},
     "output_type": "execute_result"
    }
   ],
   "source": [
    "#here are defining funciton for good loan and bad loan\n",
    "# 1 for good loan and 0 for bad loan\n",
    "\n",
    "df[\"loan_status\"] = df[\"loan_status\"].apply(lambda x: 1 if x==\"Fully Paid\" else 0)\n",
    "df[\"loan_status\"]\n"
   ]
  },
  {
   "cell_type": "code",
   "execution_count": 11,
   "metadata": {},
   "outputs": [],
   "source": [
    "#first we will decide which columns are required and which columns are not\n",
    "#this can be used for column mapping thru evedently for future data drifts\n",
    "target = \"loan_status\"\n",
    "prediction = \"prediction\"\n",
    "numerical_features = [\"funded_amnt\", \"int_rate\", \"annual_inc\", \"dti\", \"fico_range_high\", \"revol_bal\", \"revol_util\", \"bc_util\", \"total_bal_ex_mort\", \"inq_last_12m\", \"num_accts_ever_120_pd\"]\n",
    "categorical_features = [\"term\", \"home_ownership\", \"delinq_2yrs\", \"mort_acc\"]"
   ]
  },
  {
   "cell_type": "code",
   "execution_count": 12,
   "metadata": {},
   "outputs": [
    {
     "name": "stdout",
     "output_type": "stream",
     "text": [
      "<class 'pandas.core.frame.DataFrame'>\n",
      "Index: 187439 entries, 0 to 438971\n",
      "Data columns (total 16 columns):\n",
      " #   Column                 Non-Null Count   Dtype  \n",
      "---  ------                 --------------   -----  \n",
      " 0   funded_amnt            187439 non-null  int64  \n",
      " 1   int_rate               187439 non-null  object \n",
      " 2   annual_inc             187439 non-null  float64\n",
      " 3   dti                    187348 non-null  float64\n",
      " 4   fico_range_high        187439 non-null  int64  \n",
      " 5   revol_bal              187439 non-null  int64  \n",
      " 6   revol_util             187308 non-null  object \n",
      " 7   bc_util                185049 non-null  float64\n",
      " 8   total_bal_ex_mort      187439 non-null  int64  \n",
      " 9   inq_last_12m           187428 non-null  float64\n",
      " 10  num_accts_ever_120_pd  187439 non-null  int64  \n",
      " 11  term                   187439 non-null  object \n",
      " 12  home_ownership         187439 non-null  object \n",
      " 13  delinq_2yrs            187439 non-null  int64  \n",
      " 14  mort_acc               187439 non-null  int64  \n",
      " 15  loan_status            187439 non-null  int64  \n",
      "dtypes: float64(4), int64(8), object(4)\n",
      "memory usage: 24.3+ MB\n",
      "(187439, 16)\n"
     ]
    }
   ],
   "source": [
    "\n",
    "df = pd.concat([df[numerical_features + categorical_features], df[[\"loan_status\"]]], axis=1, ignore_index=False)\n",
    "df.info()\n",
    "print(df.shape)"
   ]
  },
  {
   "cell_type": "code",
   "execution_count": 13,
   "metadata": {},
   "outputs": [
    {
     "data": {
      "text/plain": [
       "np.int64(0)"
      ]
     },
     "execution_count": 13,
     "metadata": {},
     "output_type": "execute_result"
    }
   ],
   "source": [
    "#funded_amnt we don't have to do anything here but we will use standard scaler for this\n",
    "df[\"funded_amnt\"].min()\n",
    "#funded_amnt we don't have to do anything here but we will use standard scaler for this\n",
    "df[\"funded_amnt\"].max()\n",
    "\n",
    "pd.isna(df[\"funded_amnt\"]).sum()"
   ]
  },
  {
   "cell_type": "code",
   "execution_count": 14,
   "metadata": {},
   "outputs": [
    {
     "data": {
      "text/plain": [
       "np.int64(0)"
      ]
     },
     "execution_count": 14,
     "metadata": {},
     "output_type": "execute_result"
    }
   ],
   "source": [
    "#int_rate we have to remove % sign so that we can \n",
    "df[\"int_rate\"].head()\n",
    "df[\"int_rate\"] = df[\"int_rate\"].apply(lambda x: x.replace('%', ''))\n",
    "df[\"int_rate\"].head()\n",
    "df['int_rate'] = df['int_rate'].astype('float64')\n",
    "\n",
    "df[\"int_rate\"].isna().sum()"
   ]
  },
  {
   "cell_type": "code",
   "execution_count": 15,
   "metadata": {},
   "outputs": [
    {
     "name": "stdout",
     "output_type": "stream",
     "text": [
      "upper bound:  270000.0\n",
      "funded_amnt  int_rate  annual_inc  dti    fico_range_high  revol_bal  revol_util  bc_util  total_bal_ex_mort  inq_last_12m  num_accts_ever_120_pd  term       home_ownership  delinq_2yrs  mort_acc  loan_status\n",
      "40000        30.49     350000.0    12.13  689              49206      32.50%      33.6     213321             4.0           2                      60 months  MORTGAGE        1            7         1              1\n",
      "1000         11.49     342496.0    13.15  694              28933      84.80%      84.8     96574              1.0           0                      36 months  RENT            0            3         1              1\n",
      "40000        12.79     450000.0    14.04  754              22463      25%         2.0      165267             2.0           0                      36 months  MORTGAGE        0            2         1              1\n",
      "             13.49     275000.0    7.19   699              10165      64.70%      64.7     61977              2.0           4                      60 months  MORTGAGE        0            13        0              1\n",
      "                       280000.0    11.90  799              20672      9.90%       12.7     133951             3.0           0                      60 months  MORTGAGE        0            3         1              1\n",
      "                                                                                                                                                                                                                   ..\n",
      "1800         10.42     3760640.0   0.10   734              464        16%         16.0     12136              2.0           0                      36 months  MORTGAGE        0            4         1              1\n",
      "2000         8.59      432000.0    1.04   719              754        13%         31.1     32958              4.0           6                      36 months  RENT            0            0         1              1\n",
      "             10.42     312000.0    0.19   674              579        3.10%       4.0      579                1.0           1                      36 months  OWN             0            1         1              1\n",
      "             10.49     300000.0    10.89  704              46164      95.40%      94.7     88926              1.0           2                      36 months  MORTGAGE        0            4         1              1\n",
      "                       425000.0    1.02   709              9812       20.10%      21.4     11575              0.0           1                      36 months  MORTGAGE        1            1         1              1\n",
      "Name: count, Length: 1826, dtype: int64\n",
      "(185456, 16)\n",
      "value counts for customer above $250000 0\n"
     ]
    }
   ],
   "source": [
    "#annual_inc it has zeros and some outliers\n",
    "\n",
    "df= df[df['annual_inc'] != 0]\n",
    "df.shape\n",
    "\n",
    "##now we are dealing with outliers\n",
    "\n",
    "# Define bounds for outliers\n",
    "upper_bound = df['annual_inc'].quantile(0.99)\n",
    "\n",
    "# Identify outliers\n",
    "outliers = df[(df['annual_inc'] > upper_bound)]\n",
    "df = df[(df['annual_inc'] < upper_bound)]\n",
    "print(f\"upper bound: \", upper_bound)\n",
    "print(outliers.value_counts())\n",
    "print(df.shape)\n",
    "print(f'value counts for customer above $250000',df[(df['annual_inc'] > upper_bound)].value_counts().sum())\n",
    "##since value counts are not that bigger and may impact on our data because of high income, we will remove those outliers"
   ]
  },
  {
   "cell_type": "code",
   "execution_count": 16,
   "metadata": {},
   "outputs": [
    {
     "data": {
      "text/plain": [
       "<Axes: xlabel='annual_inc', ylabel='Count'>"
      ]
     },
     "execution_count": 16,
     "metadata": {},
     "output_type": "execute_result"
    },
    {
     "data": {
      "image/png": "[encoded data removed]",
      "text/plain": [
       "<Figure size 1000x600 with 1 Axes>"
      ]
     },
     "metadata": {},
     "output_type": "display_data"
    }
   ],
   "source": [
    "\n",
    "import matplotlib.pyplot as plt\n",
    "import seaborn as sns\n",
    "\n",
    "\n",
    "plt.figure(figsize=(10, 6))\n",
    "sns.set(style = \"white\")\n",
    "sns.histplot(data=df, x='annual_inc')\n"
   ]
  },
  {
   "cell_type": "code",
   "execution_count": 17,
   "metadata": {},
   "outputs": [
    {
     "name": "stdout",
     "output_type": "stream",
     "text": [
      "-1.0\n",
      "999.0\n",
      "41.36\n"
     ]
    },
    {
     "data": {
      "text/plain": [
       "<Axes: xlabel='dti', ylabel='Count'>"
      ]
     },
     "execution_count": 17,
     "metadata": {},
     "output_type": "execute_result"
    },
    {
     "data": {
      "image/png": "[encoded data removed]",
      "text/plain": [
       "<Figure size 1000x600 with 1 Axes>"
      ]
     },
     "metadata": {},
     "output_type": "display_data"
    }
   ],
   "source": [
    "##dti\n",
    "\n",
    "\n",
    "print(df['dti'].min())\n",
    "print(df['dti'].max())\n",
    "\n",
    "df= df[df['dti'] > 0]\n",
    "df.shape\n",
    "\n",
    "# Define bounds for outliers\n",
    "upper_bound = df['dti'].quantile(0.99)\n",
    "df = df[(df['dti'] < upper_bound)]\n",
    "\n",
    "\n",
    "print(upper_bound)\n",
    "plt.figure(figsize=(10, 6))\n",
    "sns.set(style = \"white\")\n",
    "sns.histplot(data=df, x='dti')\n"
   ]
  },
  {
   "cell_type": "code",
   "execution_count": 18,
   "metadata": {},
   "outputs": [
    {
     "data": {
      "text/plain": [
       "<Axes: xlabel='fico_range_high', ylabel='Count'>"
      ]
     },
     "execution_count": 18,
     "metadata": {},
     "output_type": "execute_result"
    },
    {
     "data": {
      "image/png": "[encoded data removed]",
      "text/plain": [
       "<Figure size 1000x600 with 1 Axes>"
      ]
     },
     "metadata": {},
     "output_type": "display_data"
    }
   ],
   "source": [
    "#fico_range_high\n",
    "df['fico_range_high'].min()\n",
    "df['fico_range_high'].max()\n",
    "\n",
    "plt.figure(figsize=(10, 6))\n",
    "sns.set(style = \"white\")\n",
    "sns.histplot(data=df, x='fico_range_high')\n",
    "\n",
    "##part 2 apply box cox transformation for this data\n"
   ]
  },
  {
   "cell_type": "code",
   "execution_count": 19,
   "metadata": {},
   "outputs": [
    {
     "name": "stdout",
     "output_type": "stream",
     "text": [
      "0\n",
      "779021\n",
      "38099.0\n",
      "(183502, 16)\n"
     ]
    },
    {
     "data": {
      "image/png": "[encoded data removed]",
      "text/plain": [
       "<Figure size 1000x600 with 1 Axes>"
      ]
     },
     "metadata": {},
     "output_type": "display_data"
    }
   ],
   "source": [
    "#revol_bal\n",
    "\n",
    "\n",
    "print(df['revol_bal'].min())\n",
    "print(df['revol_bal'].max())\n",
    "\n",
    "Q1 = df['revol_bal'].quantile(0.25)\n",
    "Q3 = df['revol_bal'].quantile(0.75)\n",
    "IQR = Q3 - Q1\n",
    "lower_bound = Q1 - 1.5 * IQR\n",
    "upper_bound = Q3 + 1.5 * IQR\n",
    "\n",
    "\n",
    "# Define bounds for outliers\n",
    "# upper_bound = df['revol_bal'].quantile(0.85)\n",
    "df = df[(df['dti'] < upper_bound)]\n",
    "\n",
    "print(upper_bound)\n",
    "\n",
    "plt.figure(figsize=(10, 6))\n",
    "sns.set(style = \"white\")\n",
    "sns.histplot(data=df, x='revol_bal')\n",
    "print(df.shape)"
   ]
  },
  {
   "cell_type": "code",
   "execution_count": 20,
   "metadata": {},
   "outputs": [
    {
     "name": "stdout",
     "output_type": "stream",
     "text": [
      "<class 'pandas.core.frame.DataFrame'>\n",
      "Index: 183502 entries, 0 to 438971\n",
      "Data columns (total 16 columns):\n",
      " #   Column                 Non-Null Count   Dtype  \n",
      "---  ------                 --------------   -----  \n",
      " 0   funded_amnt            183502 non-null  int64  \n",
      " 1   int_rate               183502 non-null  float64\n",
      " 2   annual_inc             183502 non-null  float64\n",
      " 3   dti                    183502 non-null  float64\n",
      " 4   fico_range_high        183502 non-null  int64  \n",
      " 5   revol_bal              183502 non-null  int64  \n",
      " 6   revol_util             183386 non-null  float64\n",
      " 7   bc_util                181184 non-null  float64\n",
      " 8   total_bal_ex_mort      183502 non-null  int64  \n",
      " 9   inq_last_12m           183491 non-null  float64\n",
      " 10  num_accts_ever_120_pd  183502 non-null  int64  \n",
      " 11  term                   183502 non-null  object \n",
      " 12  home_ownership         183502 non-null  object \n",
      " 13  delinq_2yrs            183502 non-null  int64  \n",
      " 14  mort_acc               183502 non-null  int64  \n",
      " 15  loan_status            183502 non-null  int64  \n",
      "dtypes: float64(6), int64(8), object(2)\n",
      "memory usage: 23.8+ MB\n",
      "0.0\n",
      "172.0\n"
     ]
    },
    {
     "data": {
      "text/plain": [
       "array([  6.9,  83. ,  33.5, ..., 128.7, 154.9, 112.9])"
      ]
     },
     "execution_count": 20,
     "metadata": {},
     "output_type": "execute_result"
    }
   ],
   "source": [
    "#revol_util\n",
    "\n",
    "# df['revol_util'].head()\n",
    "\n",
    "df['revol_util'] = df['revol_util'].apply(lambda x: 0 if x == 'nan' else x)\n",
    "df['revol_util'] = df['revol_util'].apply(lambda x: str(x).replace('%', ''))\n",
    "df['revol_util'] = df['revol_util'].astype('float64')\n",
    "df.info()\n",
    "\n",
    "print(df['revol_util'].min())\n",
    "print(df['revol_util'].max())\n",
    "\n",
    "# plt.figure(figsize=(10, 6))\n",
    "# sns.set(style = \"white\")\n",
    "# sns.histplot(data=df, x='revol_util')\n",
    "# print(df['revol_util'])\n",
    "\n",
    "df['revol_util'].unique()\n"
   ]
  },
  {
   "cell_type": "code",
   "execution_count": 21,
   "metadata": {},
   "outputs": [
    {
     "name": "stdout",
     "output_type": "stream",
     "text": [
      "0.0\n",
      "189.8\n",
      "100.6\n"
     ]
    },
    {
     "data": {
      "text/plain": [
       "<Axes: xlabel='bc_util', ylabel='Count'>"
      ]
     },
     "execution_count": 21,
     "metadata": {},
     "output_type": "execute_result"
    },
    {
     "data": {
      "image/png": "[encoded data removed]",
      "text/plain": [
       "<Figure size 1000x600 with 1 Axes>"
      ]
     },
     "metadata": {},
     "output_type": "display_data"
    }
   ],
   "source": [
    "#bc_util\n",
    "print(df['bc_util'].min())\n",
    "print(df['bc_util'].max())\n",
    "\n",
    "upper_bound = df['bc_util'].quantile(0.99)\n",
    "\n",
    "print(upper_bound)\n",
    "\n",
    "df = df[(df['bc_util'] < upper_bound)]\n",
    "\n",
    "plt.figure(figsize=(10, 6))\n",
    "sns.set(style = \"white\")\n",
    "sns.histplot(data=df, x='bc_util')"
   ]
  },
  {
   "cell_type": "code",
   "execution_count": 22,
   "metadata": {},
   "outputs": [
    {
     "name": "stdout",
     "output_type": "stream",
     "text": [
      "0\n",
      "796375\n",
      "upper_bound : 129933.75\n"
     ]
    },
    {
     "data": {
      "text/plain": [
       "(169177, 16)"
      ]
     },
     "execution_count": 22,
     "metadata": {},
     "output_type": "execute_result"
    },
    {
     "data": {
      "image/png": "[encoded data removed]",
      "text/plain": [
       "<Figure size 1000x600 with 1 Axes>"
      ]
     },
     "metadata": {},
     "output_type": "display_data"
    }
   ],
   "source": [
    "#total_bal_ex_mort\n",
    "print(df['total_bal_ex_mort'].min())\n",
    "print(df['total_bal_ex_mort'].max())\n",
    "\n",
    "plt.figure(figsize=(10, 6))\n",
    "sns.set(style = \"white\")\n",
    "sns.histplot(data=df, x='total_bal_ex_mort')\n",
    "\n",
    "Q1 = df['total_bal_ex_mort'].quantile(0.25)\n",
    "Q3 = df['total_bal_ex_mort'].quantile(0.75)\n",
    "IQR = Q3 - Q1\n",
    "lower_bound = Q1 - 1.5 * IQR\n",
    "upper_bound = Q3 + 1.5 * IQR\n",
    "\n",
    "print(f'upper_bound :', upper_bound)\n",
    "df = df[(df['total_bal_ex_mort'] < upper_bound)]\n",
    "\n",
    "df.shape\n",
    "# df['total_bal_ex_mort']>upper_bound"
   ]
  },
  {
   "cell_type": "code",
   "execution_count": 23,
   "metadata": {},
   "outputs": [
    {
     "name": "stdout",
     "output_type": "stream",
     "text": [
      "<class 'pandas.core.frame.DataFrame'>\n",
      "Index: 169177 entries, 0 to 438971\n",
      "Data columns (total 16 columns):\n",
      " #   Column                 Non-Null Count   Dtype  \n",
      "---  ------                 --------------   -----  \n",
      " 0   funded_amnt            169177 non-null  int64  \n",
      " 1   int_rate               169177 non-null  float64\n",
      " 2   annual_inc             169177 non-null  float64\n",
      " 3   dti                    169177 non-null  float64\n",
      " 4   fico_range_high        169177 non-null  int64  \n",
      " 5   revol_bal              169177 non-null  int64  \n",
      " 6   revol_util             169177 non-null  float64\n",
      " 7   bc_util                169177 non-null  float64\n",
      " 8   total_bal_ex_mort      169177 non-null  int64  \n",
      " 9   inq_last_12m           169167 non-null  float64\n",
      " 10  num_accts_ever_120_pd  169177 non-null  int64  \n",
      " 11  term                   169177 non-null  object \n",
      " 12  home_ownership         169177 non-null  object \n",
      " 13  delinq_2yrs            169177 non-null  int64  \n",
      " 14  mort_acc               169177 non-null  int64  \n",
      " 15  loan_status            169177 non-null  int64  \n",
      "dtypes: float64(6), int64(8), object(2)\n",
      "memory usage: 21.9+ MB\n"
     ]
    }
   ],
   "source": [
    "df.info()"
   ]
  },
  {
   "cell_type": "code",
   "execution_count": 24,
   "metadata": {},
   "outputs": [
    {
     "data": {
      "text/plain": [
       "<Axes: xlabel='total_bal_ex_mort', ylabel='Count'>"
      ]
     },
     "execution_count": 24,
     "metadata": {},
     "output_type": "execute_result"
    },
    {
     "data": {
      "image/png": "[encoded data removed]",
      "text/plain": [
       "<Figure size 1000x600 with 1 Axes>"
      ]
     },
     "metadata": {},
     "output_type": "display_data"
    }
   ],
   "source": [
    "plt.figure(figsize=(10, 6))\n",
    "sns.set(style = \"white\")\n",
    "sns.histplot(data=df, x='total_bal_ex_mort')"
   ]
  },
  {
   "cell_type": "code",
   "execution_count": 25,
   "metadata": {},
   "outputs": [
    {
     "data": {
      "text/html": [
       "<div>\n",
       "<style scoped>\n",
       "    .dataframe tbody tr th:only-of-type {\n",
       "        vertical-align: middle;\n",
       "    }\n",
       "\n",
       "    .dataframe tbody tr th {\n",
       "        vertical-align: top;\n",
       "    }\n",
       "\n",
       "    .dataframe thead th {\n",
       "        text-align: right;\n",
       "    }\n",
       "</style>\n",
       "<table border=\"1\" class=\"dataframe\">\n",
       "  <thead>\n",
       "    <tr style=\"text-align: right;\">\n",
       "      <th></th>\n",
       "      <th>funded_amnt</th>\n",
       "      <th>int_rate</th>\n",
       "      <th>annual_inc</th>\n",
       "      <th>dti</th>\n",
       "      <th>fico_range_high</th>\n",
       "      <th>revol_bal</th>\n",
       "      <th>revol_util</th>\n",
       "      <th>bc_util</th>\n",
       "      <th>total_bal_ex_mort</th>\n",
       "      <th>inq_last_12m</th>\n",
       "      <th>num_accts_ever_120_pd</th>\n",
       "      <th>term</th>\n",
       "      <th>home_ownership</th>\n",
       "      <th>delinq_2yrs</th>\n",
       "      <th>mort_acc</th>\n",
       "      <th>loan_status</th>\n",
       "    </tr>\n",
       "  </thead>\n",
       "  <tbody>\n",
       "    <tr>\n",
       "      <th>0</th>\n",
       "      <td>4000</td>\n",
       "      <td>11.99</td>\n",
       "      <td>45000.0</td>\n",
       "      <td>0.67</td>\n",
       "      <td>744</td>\n",
       "      <td>1102</td>\n",
       "      <td>6.9</td>\n",
       "      <td>14.7</td>\n",
       "      <td>1102</td>\n",
       "      <td>5.0</td>\n",
       "      <td>0</td>\n",
       "      <td>1</td>\n",
       "      <td>RENT</td>\n",
       "      <td>0</td>\n",
       "      <td>0</td>\n",
       "      <td>1</td>\n",
       "    </tr>\n",
       "    <tr>\n",
       "      <th>5</th>\n",
       "      <td>26000</td>\n",
       "      <td>13.67</td>\n",
       "      <td>82800.0</td>\n",
       "      <td>17.48</td>\n",
       "      <td>664</td>\n",
       "      <td>43091</td>\n",
       "      <td>83.0</td>\n",
       "      <td>88.5</td>\n",
       "      <td>43091</td>\n",
       "      <td>1.0</td>\n",
       "      <td>1</td>\n",
       "      <td>1</td>\n",
       "      <td>MORTGAGE</td>\n",
       "      <td>0</td>\n",
       "      <td>3</td>\n",
       "      <td>1</td>\n",
       "    </tr>\n",
       "    <tr>\n",
       "      <th>7</th>\n",
       "      <td>7200</td>\n",
       "      <td>14.46</td>\n",
       "      <td>35000.0</td>\n",
       "      <td>24.34</td>\n",
       "      <td>699</td>\n",
       "      <td>13109</td>\n",
       "      <td>33.5</td>\n",
       "      <td>46.9</td>\n",
       "      <td>37558</td>\n",
       "      <td>0.0</td>\n",
       "      <td>0</td>\n",
       "      <td>1</td>\n",
       "      <td>RENT</td>\n",
       "      <td>0</td>\n",
       "      <td>0</td>\n",
       "      <td>1</td>\n",
       "    </tr>\n",
       "    <tr>\n",
       "      <th>10</th>\n",
       "      <td>13800</td>\n",
       "      <td>10.75</td>\n",
       "      <td>95000.0</td>\n",
       "      <td>15.82</td>\n",
       "      <td>709</td>\n",
       "      <td>51278</td>\n",
       "      <td>78.5</td>\n",
       "      <td>80.3</td>\n",
       "      <td>63122</td>\n",
       "      <td>0.0</td>\n",
       "      <td>0</td>\n",
       "      <td>1</td>\n",
       "      <td>MORTGAGE</td>\n",
       "      <td>0</td>\n",
       "      <td>4</td>\n",
       "      <td>1</td>\n",
       "    </tr>\n",
       "    <tr>\n",
       "      <th>11</th>\n",
       "      <td>15000</td>\n",
       "      <td>8.39</td>\n",
       "      <td>50000.0</td>\n",
       "      <td>20.04</td>\n",
       "      <td>669</td>\n",
       "      <td>15490</td>\n",
       "      <td>77.1</td>\n",
       "      <td>73.2</td>\n",
       "      <td>31156</td>\n",
       "      <td>3.0</td>\n",
       "      <td>0</td>\n",
       "      <td>1</td>\n",
       "      <td>RENT</td>\n",
       "      <td>0</td>\n",
       "      <td>0</td>\n",
       "      <td>1</td>\n",
       "    </tr>\n",
       "  </tbody>\n",
       "</table>\n",
       "</div>"
      ],
      "text/plain": [
       "    funded_amnt  int_rate  annual_inc    dti  fico_range_high  revol_bal  \\\n",
       "0          4000     11.99     45000.0   0.67              744       1102   \n",
       "5         26000     13.67     82800.0  17.48              664      43091   \n",
       "7          7200     14.46     35000.0  24.34              699      13109   \n",
       "10        13800     10.75     95000.0  15.82              709      51278   \n",
       "11        15000      8.39     50000.0  20.04              669      15490   \n",
       "\n",
       "    revol_util  bc_util  total_bal_ex_mort  inq_last_12m  \\\n",
       "0          6.9     14.7               1102           5.0   \n",
       "5         83.0     88.5              43091           1.0   \n",
       "7         33.5     46.9              37558           0.0   \n",
       "10        78.5     80.3              63122           0.0   \n",
       "11        77.1     73.2              31156           3.0   \n",
       "\n",
       "    num_accts_ever_120_pd  term home_ownership  delinq_2yrs  mort_acc  \\\n",
       "0                       0     1           RENT            0         0   \n",
       "5                       1     1       MORTGAGE            0         3   \n",
       "7                       0     1           RENT            0         0   \n",
       "10                      0     1       MORTGAGE            0         4   \n",
       "11                      0     1           RENT            0         0   \n",
       "\n",
       "    loan_status  \n",
       "0             1  \n",
       "5             1  \n",
       "7             1  \n",
       "10            1  \n",
       "11            1  "
      ]
     },
     "execution_count": 25,
     "metadata": {},
     "output_type": "execute_result"
    }
   ],
   "source": [
    "##here categorical data will start\n",
    "\n",
    "#term\n",
    "df['term'].value_counts()\n",
    "\n",
    "df['term'].dtype\n",
    "df['term'] = df['term'].apply(lambda x: 0 if x=='36 months' else 1)\n",
    "\n",
    "df['term'].astype('Int32')\n",
    "\n",
    "df.head()\n",
    "# 0 and 1\n",
    "#we have to implement SMOTE in pipeline, we may use smote for target variable too\n"
   ]
  },
  {
   "cell_type": "code",
   "execution_count": 26,
   "metadata": {},
   "outputs": [
    {
     "name": "stderr",
     "output_type": "stream",
     "text": [
      "C:\\Users\\ujjwa\\AppData\\Local\\Temp\\ipykernel_11180\\4227314901.py:3: FutureWarning: Downcasting behavior in `replace` is deprecated and will be removed in a future version. To retain the old behavior, explicitly call `result.infer_objects(copy=False)`. To opt-in to the future behavior, set `pd.set_option('future.no_silent_downcasting', True)`\n",
      "  df['home_ownership'] = df['home_ownership'].replace(['RENT', 'MORTGAGE', 'OWN', 'ANY'], [0,1,2,3])\n"
     ]
    },
    {
     "data": {
      "text/plain": [
       "0     0\n",
       "5     1\n",
       "7     0\n",
       "10    1\n",
       "11    0\n",
       "Name: home_ownership, dtype: int64"
      ]
     },
     "execution_count": 26,
     "metadata": {},
     "output_type": "execute_result"
    }
   ],
   "source": [
    "#home_ownership\n",
    "\n",
    "df['home_ownership'] = df['home_ownership'].replace(['RENT', 'MORTGAGE', 'OWN', 'ANY'], [0,1,2,3])\n",
    "df['home_ownership'].head()\n",
    "\n",
    "#use 0 1 2 3"
   ]
  },
  {
   "cell_type": "code",
   "execution_count": 27,
   "metadata": {},
   "outputs": [
    {
     "name": "stdout",
     "output_type": "stream",
     "text": [
      "<class 'pandas.core.frame.DataFrame'>\n",
      "Index: 169177 entries, 0 to 438971\n",
      "Data columns (total 16 columns):\n",
      " #   Column                 Non-Null Count   Dtype  \n",
      "---  ------                 --------------   -----  \n",
      " 0   funded_amnt            169177 non-null  int64  \n",
      " 1   int_rate               169177 non-null  float64\n",
      " 2   annual_inc             169177 non-null  float64\n",
      " 3   dti                    169177 non-null  float64\n",
      " 4   fico_range_high        169177 non-null  int64  \n",
      " 5   revol_bal              169177 non-null  int64  \n",
      " 6   revol_util             169177 non-null  float64\n",
      " 7   bc_util                169177 non-null  float64\n",
      " 8   total_bal_ex_mort      169177 non-null  int64  \n",
      " 9   inq_last_12m           169167 non-null  float64\n",
      " 10  num_accts_ever_120_pd  169177 non-null  int64  \n",
      " 11  term                   169177 non-null  int64  \n",
      " 12  home_ownership         169177 non-null  int64  \n",
      " 13  delinq_2yrs            169177 non-null  int64  \n",
      " 14  mort_acc               169177 non-null  int64  \n",
      " 15  loan_status            169177 non-null  int64  \n",
      "dtypes: float64(6), int64(10)\n",
      "memory usage: 21.9 MB\n"
     ]
    }
   ],
   "source": [
    "df.info()"
   ]
  },
  {
   "cell_type": "markdown",
   "metadata": {},
   "source": []
  },
  {
   "cell_type": "code",
   "execution_count": 28,
   "metadata": {},
   "outputs": [
    {
     "name": "stdout",
     "output_type": "stream",
     "text": [
      "funded_amnt  int_rate  annual_inc  dti    fico_range_high  revol_bal  revol_util  bc_util  total_bal_ex_mort  inq_last_12m  num_accts_ever_120_pd  term  home_ownership  delinq_2yrs  mort_acc  loan_status\n",
      "1000         11.49     111000.0    3.82   669              3654       25.2        25.9     65686              4.0           11                     1     2               11           0         1              1\n",
      "             13.59     80000.0     20.09  684              6901       78.4        84.5     75332              2.0           9                      1     1               11           5         0              1\n",
      "1200         13.59     55000.0     21.27  664              7444       49.6        54.1     14711              0.0           1                      1     1               13           1         1              1\n",
      "             14.99     35000.0     24.52  664              3994       40.3        33.5     24464              3.0           11                     1     0               11           0         1              1\n",
      "1500         12.99     56000.0     21.05  704              1838       32.2        38.7     54320              2.0           0                      1     0               15           0         1              1\n",
      "                                                                                                                                                                                                              ..\n",
      "35000        11.99     205000.0    6.22   719              1754       5.7         7.0      104908             5.0           8                      1     0               12           0         0              1\n",
      "             13.59     85000.0     8.63   709              54802      28.7        0.0      54802              3.0           0                      1     1               11           10        1              1\n",
      "             16.02     64000.0     24.96  664              7333       67.9        75.0     57473              1.0           0                      1     1               10           1         0              1\n",
      "             19.53     80000.0     31.70  664              23376      52.5        58.6     58807              1.0           0                      1     1               14           1         0              1\n",
      "             30.94     85000.0     39.90  674              18687      50.8        59.7     65183              2.0           1                      1     1               11           4         0              1\n",
      "Name: count, Length: 155, dtype: int64\n",
      "upper_bound : 9.0\n"
     ]
    },
    {
     "data": {
      "text/plain": [
       "(168957, 16)"
      ]
     },
     "execution_count": 28,
     "metadata": {},
     "output_type": "execute_result"
    }
   ],
   "source": [
    "# delinq_2yrs\n",
    "\n",
    "df['delinq_2yrs'].value_counts().unique\n",
    "df['delinq_2yrs'].unique()\n",
    "\n",
    "pd.isna(df['delinq_2yrs']).sum()\n",
    "\n",
    "Q1 = df['delinq_2yrs'].quantile(0.25)\n",
    "Q3 = df['delinq_2yrs'].quantile(0.75)\n",
    "IQR = Q3 - Q1\n",
    "lower_bound = Q1 - 1.5 * IQR\n",
    "upper_bound = df['delinq_2yrs'].quantile(0.999)\n",
    "\n",
    "print(df[df['delinq_2yrs'] > upper_bound].value_counts())\n",
    "\n",
    "print(f'upper_bound :', upper_bound)\n",
    "df = df[(df['delinq_2yrs'] < upper_bound)]\n",
    "\n",
    "# plt.figure(figsize=(10, 6))\n",
    "# sns.set(style = \"white\")\n",
    "# sns.histplot(data=df, x='delinq_2yrs')\n",
    "\n",
    "df.shape"
   ]
  },
  {
   "cell_type": "code",
   "execution_count": 29,
   "metadata": {},
   "outputs": [
    {
     "data": {
      "text/plain": [
       "array([0, 1, 2, 6, 5, 8, 3, 4, 7])"
      ]
     },
     "execution_count": 29,
     "metadata": {},
     "output_type": "execute_result"
    }
   ],
   "source": [
    "df['delinq_2yrs'].unique()"
   ]
  },
  {
   "cell_type": "code",
   "execution_count": 30,
   "metadata": {},
   "outputs": [
    {
     "data": {
      "text/plain": [
       "array([ 5,  1,  0,  3,  2,  4, 12,  6,  7, 15, 10,  8, 11, 16, 18, 20,  9,\n",
       "       34, 13, 14, 17, 23, 21, 32, 19, 25, 22, 27, 30, 24, 31, 29, 28, 26,\n",
       "       41, 37])"
      ]
     },
     "execution_count": 30,
     "metadata": {},
     "output_type": "execute_result"
    }
   ],
   "source": [
    "# inq_last_12m Numeric feature\n",
    "\n",
    "import numpy as np\n",
    "df['inq_last_12m'].unique()\n",
    "\n",
    "df.replace(np.nan, 0, inplace=True)\n",
    "\n",
    "df['inq_last_12m'] = df['inq_last_12m'].astype('int64')\n",
    "df['inq_last_12m'].unique()\n"
   ]
  },
  {
   "cell_type": "code",
   "execution_count": 31,
   "metadata": {},
   "outputs": [
    {
     "data": {
      "text/plain": [
       "<Axes: xlabel='inq_last_12m', ylabel='Count'>"
      ]
     },
     "execution_count": 31,
     "metadata": {},
     "output_type": "execute_result"
    },
    {
     "data": {
      "image/png": "[encoded data removed]",
      "text/plain": [
       "<Figure size 1000x600 with 1 Axes>"
      ]
     },
     "metadata": {},
     "output_type": "display_data"
    }
   ],
   "source": [
    "plt.figure(figsize=(10, 6))\n",
    "sns.set(style = \"white\")\n",
    "sns.histplot(data=df, x='inq_last_12m')\n"
   ]
  },
  {
   "cell_type": "code",
   "execution_count": 32,
   "metadata": {},
   "outputs": [
    {
     "name": "stdout",
     "output_type": "stream",
     "text": [
      "<class 'pandas.core.frame.DataFrame'>\n",
      "Index: 168957 entries, 0 to 438971\n",
      "Data columns (total 16 columns):\n",
      " #   Column                 Non-Null Count   Dtype  \n",
      "---  ------                 --------------   -----  \n",
      " 0   funded_amnt            168957 non-null  int64  \n",
      " 1   int_rate               168957 non-null  float64\n",
      " 2   annual_inc             168957 non-null  float64\n",
      " 3   dti                    168957 non-null  float64\n",
      " 4   fico_range_high        168957 non-null  int64  \n",
      " 5   revol_bal              168957 non-null  int64  \n",
      " 6   revol_util             168957 non-null  float64\n",
      " 7   bc_util                168957 non-null  float64\n",
      " 8   total_bal_ex_mort      168957 non-null  int64  \n",
      " 9   inq_last_12m           168957 non-null  int64  \n",
      " 10  num_accts_ever_120_pd  168957 non-null  int64  \n",
      " 11  term                   168957 non-null  int64  \n",
      " 12  home_ownership         168957 non-null  int64  \n",
      " 13  delinq_2yrs            168957 non-null  int64  \n",
      " 14  mort_acc               168957 non-null  int64  \n",
      " 15  loan_status            168957 non-null  int64  \n",
      "dtypes: float64(5), int64(11)\n",
      "memory usage: 21.9 MB\n"
     ]
    }
   ],
   "source": [
    "df.info()"
   ]
  },
  {
   "cell_type": "code",
   "execution_count": 33,
   "metadata": {},
   "outputs": [
    {
     "name": "stdout",
     "output_type": "stream",
     "text": [
      "5.0\n"
     ]
    },
    {
     "data": {
      "text/plain": [
       "(156661, 16)"
      ]
     },
     "execution_count": 33,
     "metadata": {},
     "output_type": "execute_result"
    },
    {
     "data": {
      "image/png": "[encoded data removed]",
      "text/plain": [
       "<Figure size 1000x600 with 1 Axes>"
      ]
     },
     "metadata": {},
     "output_type": "display_data"
    }
   ],
   "source": [
    "# mort_acc\n",
    "\n",
    "\n",
    "df['mort_acc'].unique()\n",
    "\n",
    "plt.figure(figsize=(10, 6))\n",
    "sns.set(style = \"white\")\n",
    "sns.histplot(data=df, x='mort_acc')\n",
    "\n",
    "Q1 = df['mort_acc'].quantile(0.25)\n",
    "Q3 = df['mort_acc'].quantile(0.75)\n",
    "IQR = Q3 - Q1\n",
    "lower_bound = Q1 - 1.5 * IQR\n",
    "upper_bound = Q3 + 1.5 * IQR\n",
    "df = df[(df['mort_acc'] < upper_bound)]\n",
    "print(upper_bound)\n",
    "df.shape\n"
   ]
  },
  {
   "cell_type": "code",
   "execution_count": 34,
   "metadata": {},
   "outputs": [
    {
     "data": {
      "text/plain": [
       "<Axes: xlabel='mort_acc', ylabel='Count'>"
      ]
     },
     "execution_count": 34,
     "metadata": {},
     "output_type": "execute_result"
    },
    {
     "data": {
      "image/png": "[encoded data removed]",
      "text/plain": [
       "<Figure size 1000x600 with 1 Axes>"
      ]
     },
     "metadata": {},
     "output_type": "display_data"
    }
   ],
   "source": [
    "plt.figure(figsize=(10, 6))\n",
    "sns.set(style = \"white\")\n",
    "sns.histplot(data=df, x='mort_acc')"
   ]
  },
  {
   "cell_type": "code",
   "execution_count": 35,
   "metadata": {},
   "outputs": [
    {
     "name": "stdout",
     "output_type": "stream",
     "text": [
      "[ 0  1  3  2  4  6  5  7  8 12  9 10 14 15 11 13 17 16 18 24 22 20 21 26\n",
      " 19 25 23 31 30 29 28]\n",
      "7.0\n"
     ]
    },
    {
     "data": {
      "text/plain": [
       "(155052, 16)"
      ]
     },
     "execution_count": 35,
     "metadata": {},
     "output_type": "execute_result"
    },
    {
     "data": {
      "image/png": "[encoded data removed]",
      "text/plain": [
       "<Figure size 1000x600 with 1 Axes>"
      ]
     },
     "metadata": {},
     "output_type": "display_data"
    }
   ],
   "source": [
    "#num_accts_ever_120_pd\n",
    "\n",
    "print(df['num_accts_ever_120_pd'].unique())\n",
    "\n",
    "plt.figure(figsize=(10, 6))\n",
    "sns.set(style = \"white\")\n",
    "sns.histplot(data=df, x='num_accts_ever_120_pd')\n",
    "\n",
    "Q1 = df['num_accts_ever_120_pd'].quantile(0.25)\n",
    "Q3 = df['num_accts_ever_120_pd'].quantile(0.75)\n",
    "IQR = Q3 - Q1\n",
    "lower_bound = Q1 - 1.5 * IQR\n",
    "upper_bound = df['num_accts_ever_120_pd'].quantile(0.99)\n",
    "\n",
    "print(df['num_accts_ever_120_pd'].quantile(0.99))\n",
    "df = df[(df['num_accts_ever_120_pd'] < upper_bound)]\n",
    "\n",
    "df.shape\n"
   ]
  },
  {
   "cell_type": "code",
   "execution_count": 36,
   "metadata": {},
   "outputs": [
    {
     "data": {
      "text/html": [
       "<div>\n",
       "<style scoped>\n",
       "    .dataframe tbody tr th:only-of-type {\n",
       "        vertical-align: middle;\n",
       "    }\n",
       "\n",
       "    .dataframe tbody tr th {\n",
       "        vertical-align: top;\n",
       "    }\n",
       "\n",
       "    .dataframe thead th {\n",
       "        text-align: right;\n",
       "    }\n",
       "</style>\n",
       "<table border=\"1\" class=\"dataframe\">\n",
       "  <thead>\n",
       "    <tr style=\"text-align: right;\">\n",
       "      <th></th>\n",
       "      <th>funded_amnt</th>\n",
       "      <th>int_rate</th>\n",
       "      <th>annual_inc</th>\n",
       "      <th>dti</th>\n",
       "      <th>fico_range_high</th>\n",
       "      <th>revol_bal</th>\n",
       "      <th>revol_util</th>\n",
       "      <th>bc_util</th>\n",
       "      <th>total_bal_ex_mort</th>\n",
       "      <th>inq_last_12m</th>\n",
       "      <th>num_accts_ever_120_pd</th>\n",
       "      <th>term</th>\n",
       "      <th>home_ownership</th>\n",
       "      <th>delinq_2yrs</th>\n",
       "      <th>mort_acc</th>\n",
       "      <th>loan_status</th>\n",
       "    </tr>\n",
       "  </thead>\n",
       "  <tbody>\n",
       "    <tr>\n",
       "      <th>0</th>\n",
       "      <td>4000</td>\n",
       "      <td>11.99</td>\n",
       "      <td>45000.0</td>\n",
       "      <td>0.67</td>\n",
       "      <td>744</td>\n",
       "      <td>1102</td>\n",
       "      <td>6.9</td>\n",
       "      <td>14.7</td>\n",
       "      <td>1102</td>\n",
       "      <td>5</td>\n",
       "      <td>0</td>\n",
       "      <td>1</td>\n",
       "      <td>0</td>\n",
       "      <td>0</td>\n",
       "      <td>0</td>\n",
       "      <td>1</td>\n",
       "    </tr>\n",
       "    <tr>\n",
       "      <th>5</th>\n",
       "      <td>26000</td>\n",
       "      <td>13.67</td>\n",
       "      <td>82800.0</td>\n",
       "      <td>17.48</td>\n",
       "      <td>664</td>\n",
       "      <td>43091</td>\n",
       "      <td>83.0</td>\n",
       "      <td>88.5</td>\n",
       "      <td>43091</td>\n",
       "      <td>1</td>\n",
       "      <td>1</td>\n",
       "      <td>1</td>\n",
       "      <td>1</td>\n",
       "      <td>0</td>\n",
       "      <td>3</td>\n",
       "      <td>1</td>\n",
       "    </tr>\n",
       "    <tr>\n",
       "      <th>7</th>\n",
       "      <td>7200</td>\n",
       "      <td>14.46</td>\n",
       "      <td>35000.0</td>\n",
       "      <td>24.34</td>\n",
       "      <td>699</td>\n",
       "      <td>13109</td>\n",
       "      <td>33.5</td>\n",
       "      <td>46.9</td>\n",
       "      <td>37558</td>\n",
       "      <td>0</td>\n",
       "      <td>0</td>\n",
       "      <td>1</td>\n",
       "      <td>0</td>\n",
       "      <td>0</td>\n",
       "      <td>0</td>\n",
       "      <td>1</td>\n",
       "    </tr>\n",
       "    <tr>\n",
       "      <th>10</th>\n",
       "      <td>13800</td>\n",
       "      <td>10.75</td>\n",
       "      <td>95000.0</td>\n",
       "      <td>15.82</td>\n",
       "      <td>709</td>\n",
       "      <td>51278</td>\n",
       "      <td>78.5</td>\n",
       "      <td>80.3</td>\n",
       "      <td>63122</td>\n",
       "      <td>0</td>\n",
       "      <td>0</td>\n",
       "      <td>1</td>\n",
       "      <td>1</td>\n",
       "      <td>0</td>\n",
       "      <td>4</td>\n",
       "      <td>1</td>\n",
       "    </tr>\n",
       "    <tr>\n",
       "      <th>11</th>\n",
       "      <td>15000</td>\n",
       "      <td>8.39</td>\n",
       "      <td>50000.0</td>\n",
       "      <td>20.04</td>\n",
       "      <td>669</td>\n",
       "      <td>15490</td>\n",
       "      <td>77.1</td>\n",
       "      <td>73.2</td>\n",
       "      <td>31156</td>\n",
       "      <td>3</td>\n",
       "      <td>0</td>\n",
       "      <td>1</td>\n",
       "      <td>0</td>\n",
       "      <td>0</td>\n",
       "      <td>0</td>\n",
       "      <td>1</td>\n",
       "    </tr>\n",
       "  </tbody>\n",
       "</table>\n",
       "</div>"
      ],
      "text/plain": [
       "    funded_amnt  int_rate  annual_inc    dti  fico_range_high  revol_bal  \\\n",
       "0          4000     11.99     45000.0   0.67              744       1102   \n",
       "5         26000     13.67     82800.0  17.48              664      43091   \n",
       "7          7200     14.46     35000.0  24.34              699      13109   \n",
       "10        13800     10.75     95000.0  15.82              709      51278   \n",
       "11        15000      8.39     50000.0  20.04              669      15490   \n",
       "\n",
       "    revol_util  bc_util  total_bal_ex_mort  inq_last_12m  \\\n",
       "0          6.9     14.7               1102             5   \n",
       "5         83.0     88.5              43091             1   \n",
       "7         33.5     46.9              37558             0   \n",
       "10        78.5     80.3              63122             0   \n",
       "11        77.1     73.2              31156             3   \n",
       "\n",
       "    num_accts_ever_120_pd  term  home_ownership  delinq_2yrs  mort_acc  \\\n",
       "0                       0     1               0            0         0   \n",
       "5                       1     1               1            0         3   \n",
       "7                       0     1               0            0         0   \n",
       "10                      0     1               1            0         4   \n",
       "11                      0     1               0            0         0   \n",
       "\n",
       "    loan_status  \n",
       "0             1  \n",
       "5             1  \n",
       "7             1  \n",
       "10            1  \n",
       "11            1  "
      ]
     },
     "execution_count": 36,
     "metadata": {},
     "output_type": "execute_result"
    }
   ],
   "source": [
    "df.head()"
   ]
  },
  {
   "cell_type": "code",
   "execution_count": 37,
   "metadata": {},
   "outputs": [],
   "source": [
    "##Here I will add code for getting sample rows from current loans\n",
    "## then I willl assign 0 and 1 to loan status for randomness in our model"
   ]
  },
  {
   "cell_type": "code",
   "execution_count": 38,
   "metadata": {},
   "outputs": [
    {
     "data": {
      "text/html": [
       "<div>\n",
       "<style scoped>\n",
       "    .dataframe tbody tr th:only-of-type {\n",
       "        vertical-align: middle;\n",
       "    }\n",
       "\n",
       "    .dataframe tbody tr th {\n",
       "        vertical-align: top;\n",
       "    }\n",
       "\n",
       "    .dataframe thead th {\n",
       "        text-align: right;\n",
       "    }\n",
       "</style>\n",
       "<table border=\"1\" class=\"dataframe\">\n",
       "  <thead>\n",
       "    <tr style=\"text-align: right;\">\n",
       "      <th></th>\n",
       "      <th>funded_amnt</th>\n",
       "      <th>int_rate</th>\n",
       "      <th>annual_inc</th>\n",
       "      <th>dti</th>\n",
       "      <th>fico_range_high</th>\n",
       "      <th>revol_bal</th>\n",
       "      <th>revol_util</th>\n",
       "      <th>bc_util</th>\n",
       "      <th>total_bal_ex_mort</th>\n",
       "      <th>inq_last_12m</th>\n",
       "      <th>num_accts_ever_120_pd</th>\n",
       "      <th>term</th>\n",
       "      <th>home_ownership</th>\n",
       "      <th>delinq_2yrs</th>\n",
       "      <th>mort_acc</th>\n",
       "      <th>loan_status</th>\n",
       "    </tr>\n",
       "  </thead>\n",
       "  <tbody>\n",
       "    <tr>\n",
       "      <th>0</th>\n",
       "      <td>4000</td>\n",
       "      <td>11.99</td>\n",
       "      <td>45000.0</td>\n",
       "      <td>0.67</td>\n",
       "      <td>744</td>\n",
       "      <td>1102</td>\n",
       "      <td>6.9</td>\n",
       "      <td>14.7</td>\n",
       "      <td>1102</td>\n",
       "      <td>5</td>\n",
       "      <td>0</td>\n",
       "      <td>1</td>\n",
       "      <td>0</td>\n",
       "      <td>0</td>\n",
       "      <td>0</td>\n",
       "      <td>1</td>\n",
       "    </tr>\n",
       "    <tr>\n",
       "      <th>5</th>\n",
       "      <td>26000</td>\n",
       "      <td>13.67</td>\n",
       "      <td>82800.0</td>\n",
       "      <td>17.48</td>\n",
       "      <td>664</td>\n",
       "      <td>43091</td>\n",
       "      <td>83.0</td>\n",
       "      <td>88.5</td>\n",
       "      <td>43091</td>\n",
       "      <td>1</td>\n",
       "      <td>1</td>\n",
       "      <td>1</td>\n",
       "      <td>1</td>\n",
       "      <td>0</td>\n",
       "      <td>3</td>\n",
       "      <td>1</td>\n",
       "    </tr>\n",
       "    <tr>\n",
       "      <th>7</th>\n",
       "      <td>7200</td>\n",
       "      <td>14.46</td>\n",
       "      <td>35000.0</td>\n",
       "      <td>24.34</td>\n",
       "      <td>699</td>\n",
       "      <td>13109</td>\n",
       "      <td>33.5</td>\n",
       "      <td>46.9</td>\n",
       "      <td>37558</td>\n",
       "      <td>0</td>\n",
       "      <td>0</td>\n",
       "      <td>1</td>\n",
       "      <td>0</td>\n",
       "      <td>0</td>\n",
       "      <td>0</td>\n",
       "      <td>1</td>\n",
       "    </tr>\n",
       "    <tr>\n",
       "      <th>10</th>\n",
       "      <td>13800</td>\n",
       "      <td>10.75</td>\n",
       "      <td>95000.0</td>\n",
       "      <td>15.82</td>\n",
       "      <td>709</td>\n",
       "      <td>51278</td>\n",
       "      <td>78.5</td>\n",
       "      <td>80.3</td>\n",
       "      <td>63122</td>\n",
       "      <td>0</td>\n",
       "      <td>0</td>\n",
       "      <td>1</td>\n",
       "      <td>1</td>\n",
       "      <td>0</td>\n",
       "      <td>4</td>\n",
       "      <td>1</td>\n",
       "    </tr>\n",
       "    <tr>\n",
       "      <th>11</th>\n",
       "      <td>15000</td>\n",
       "      <td>8.39</td>\n",
       "      <td>50000.0</td>\n",
       "      <td>20.04</td>\n",
       "      <td>669</td>\n",
       "      <td>15490</td>\n",
       "      <td>77.1</td>\n",
       "      <td>73.2</td>\n",
       "      <td>31156</td>\n",
       "      <td>3</td>\n",
       "      <td>0</td>\n",
       "      <td>1</td>\n",
       "      <td>0</td>\n",
       "      <td>0</td>\n",
       "      <td>0</td>\n",
       "      <td>1</td>\n",
       "    </tr>\n",
       "  </tbody>\n",
       "</table>\n",
       "</div>"
      ],
      "text/plain": [
       "    funded_amnt  int_rate  annual_inc    dti  fico_range_high  revol_bal  \\\n",
       "0          4000     11.99     45000.0   0.67              744       1102   \n",
       "5         26000     13.67     82800.0  17.48              664      43091   \n",
       "7          7200     14.46     35000.0  24.34              699      13109   \n",
       "10        13800     10.75     95000.0  15.82              709      51278   \n",
       "11        15000      8.39     50000.0  20.04              669      15490   \n",
       "\n",
       "    revol_util  bc_util  total_bal_ex_mort  inq_last_12m  \\\n",
       "0          6.9     14.7               1102             5   \n",
       "5         83.0     88.5              43091             1   \n",
       "7         33.5     46.9              37558             0   \n",
       "10        78.5     80.3              63122             0   \n",
       "11        77.1     73.2              31156             3   \n",
       "\n",
       "    num_accts_ever_120_pd  term  home_ownership  delinq_2yrs  mort_acc  \\\n",
       "0                       0     1               0            0         0   \n",
       "5                       1     1               1            0         3   \n",
       "7                       0     1               0            0         0   \n",
       "10                      0     1               1            0         4   \n",
       "11                      0     1               0            0         0   \n",
       "\n",
       "    loan_status  \n",
       "0             1  \n",
       "5             1  \n",
       "7             1  \n",
       "10            1  \n",
       "11            1  "
      ]
     },
     "execution_count": 38,
     "metadata": {},
     "output_type": "execute_result"
    }
   ],
   "source": [
    "df.head()"
   ]
  },
  {
   "cell_type": "code",
   "execution_count": null,
   "metadata": {},
   "outputs": [],
   "source": []
  },
  {
   "cell_type": "code",
   "execution_count": 39,
   "metadata": {},
   "outputs": [],
   "source": [
    "from sklearn.compose import ColumnTransformer\n",
    "from sklearn.pipeline import Pipeline\n",
    "from sklearn.preprocessing import OneHotEncoder, StandardScaler"
   ]
  },
  {
   "cell_type": "code",
   "execution_count": 40,
   "metadata": {},
   "outputs": [],
   "source": [
    "\n",
    "def get_data_transformer_object():\n",
    "    num_pipeline = Pipeline(\n",
    "        steps=[\n",
    "            (\"scaler\", StandardScaler())\n",
    "        ]\n",
    "    )\n",
    "    \n",
    "    cat_pipeline = Pipeline(\n",
    "        steps=[\n",
    "            (\"one_hot_encoder\", OneHotEncoder(handle_unknown=\"ignore\")),\n",
    "            (\"scaler\", StandardScaler(with_mean=False))\n",
    "        ]\n",
    "    )\n",
    "    preprocessor = ColumnTransformer(\n",
    "        [\n",
    "            (\"num_pipeline\", num_pipeline, numerical_features),\n",
    "            (\"cat_pipeline\", cat_pipeline, categorical_features)\n",
    "        ]\n",
    "    )\n",
    "\n",
    "    return preprocessor\n"
   ]
  },
  {
   "cell_type": "code",
   "execution_count": 41,
   "metadata": {},
   "outputs": [
    {
     "name": "stdout",
     "output_type": "stream",
     "text": [
      "   funded_amnt  int_rate  annual_inc    dti  fico_range_high  revol_bal  \\\n",
      "0         4000     11.99     45000.0   0.67              744       1102   \n",
      "5        26000     13.67     82800.0  17.48              664      43091   \n",
      "\n",
      "   revol_util  bc_util  total_bal_ex_mort  inq_last_12m  \\\n",
      "0         6.9     14.7               1102             5   \n",
      "5        83.0     88.5              43091             1   \n",
      "\n",
      "   num_accts_ever_120_pd  term  home_ownership  delinq_2yrs  mort_acc  \n",
      "0                      0     1               0            0         0  \n",
      "5                      1     1               1            0         3  \n",
      "(124041, 15) (31011, 15)\n",
      "(173424, 15) (173424,)\n",
      "loan_status\n",
      "0    86712\n",
      "1    86712\n",
      "Name: count, dtype: int64\n"
     ]
    }
   ],
   "source": [
    "#before we start transformation, we will create train, test split\n",
    "\n",
    "from sklearn.model_selection import train_test_split\n",
    "\n",
    "X = df.drop(\"loan_status\", axis=1)\n",
    "y = df[\"loan_status\"]\n",
    "\n",
    "print(X.head(2))\n",
    "from sklearn.model_selection import train_test_split\n",
    "X_train, X_test, y_train, y_test = train_test_split(X,y,test_size=0.2,random_state=42)\n",
    "print(X_train.shape, X_test.shape)\n",
    "\n",
    "\n",
    "# since target variable is imbalance\n",
    "\n",
    "from imblearn.over_sampling import SMOTE\n",
    "smote = SMOTE(\n",
    "    sampling_strategy='auto',\n",
    "    random_state=0,\n",
    "    k_neighbors=5,\n",
    ")\n",
    "X_train_resampled, target_resampled = smote.fit_resample(X_train, y_train)\n",
    "\n",
    "print(X_train_resampled.shape, target_resampled.shape)\n",
    "print(target_resampled.value_counts())\n",
    "\n",
    "\n",
    "preprocessing_object=get_data_transformer_object()\n",
    "input_feature_train_arr=preprocessing_object.fit_transform(X_train_resampled)\n",
    "input_feature_test_arr=preprocessing_object.transform(X_test)\n",
    "\n",
    "import pickle\n",
    "with open(\"../artifacts/preprocessing_object.pickle\", \"wb\") as file:\n",
    "            pickle.dump(preprocessing_object, file)\n",
    "\n",
    "# print(input_feature_train_arr)\n"
   ]
  },
  {
   "cell_type": "code",
   "execution_count": null,
   "metadata": {},
   "outputs": [],
   "source": []
  },
  {
   "cell_type": "code",
   "execution_count": 42,
   "metadata": {},
   "outputs": [
    {
     "name": "stderr",
     "output_type": "stream",
     "text": [
      "[I 2025-03-06 13:23:58,509] A new study created in memory with name: no-name-ea0f553a-f327-4c75-9ee5-b5f6228b74b0\n",
      "[I 2025-03-06 13:45:24,507] Trial 2 finished with value: 0.7238333446909129 and parameters: {'n_estimators': 200, 'max_features': 'sqrt', 'max_depth': 70, 'min_samples_split': 10, 'min_samples_leaf': 2}. Best is trial 1 with value: 0.7309084960851762.\n",
      "[I 2025-03-06 13:50:28,543] Trial 3 finished with value: 0.6860068444393033 and parameters: {'n_estimators': 500, 'max_features': 'log2', 'max_depth': 10, 'min_samples_split': 8, 'min_samples_leaf': 3}. Best is trial 1 with value: 0.7309084960851762.\n",
      "[I 2025-03-06 14:02:03,682] Trial 4 finished with value: 0.7277082350143499 and parameters: {'n_estimators': 500, 'max_features': 'sqrt', 'max_depth': 90, 'min_samples_split': 6, 'min_samples_leaf': 2}. Best is trial 1 with value: 0.7309084960851762.\n"
     ]
    },
    {
     "name": "stdout",
     "output_type": "stream",
     "text": [
      "test_accuracy: 0.6655380348908452\n",
      "test_precision: 0.7675243160366059\n",
      "test_recall: 0.7437206926969683\n",
      "test_f1_score: 0.7554350389059185\n"
     ]
    }
   ],
   "source": [
    "import optuna\n",
    "from sklearn.ensemble import RandomForestClassifier\n",
    "from sklearn.datasets import make_classification\n",
    "from sklearn.model_selection import train_test_split\n",
    "from sklearn.model_selection import cross_val_score\n",
    "from sklearn.metrics import classification_report, accuracy_score\n",
    "from sklearn.metrics import precision_recall_fscore_support\n",
    "\n",
    "#trainig started\n",
    "\n",
    "def objective(trial):\n",
    "    # Number of trees in random forest\n",
    "    n_estimators = trial.suggest_int(name=\"n_estimators\", low=100, high=500, step=100)\n",
    "\n",
    "    # Number of features to consider at every split\n",
    "    max_features = trial.suggest_categorical(name=\"max_features\", choices=['log2', 'sqrt']) \n",
    "\n",
    "    # Maximum number of levels in tree\n",
    "    max_depth = trial.suggest_int(name=\"max_depth\", low=10, high=110, step=20)\n",
    "\n",
    "    # Minimum number of samples required to split a node\n",
    "    min_samples_split = trial.suggest_int(name=\"min_samples_split\", low=2, high=10, step=2)\n",
    "\n",
    "    # Minimum number of samples required at each leaf node\n",
    "    min_samples_leaf = trial.suggest_int(name=\"min_samples_leaf\", low=1, high=4, step=1)\n",
    "    \n",
    "    params = {\n",
    "        \"n_estimators\": n_estimators,\n",
    "        \"max_features\": max_features,\n",
    "        \"max_depth\": max_depth,\n",
    "        \"min_samples_split\": min_samples_split,\n",
    "        \"min_samples_leaf\": min_samples_leaf\n",
    "    }\n",
    "    model = RandomForestClassifier(random_state=42, **params)\n",
    "    \n",
    "    cv_score = cross_val_score(model, input_feature_train_arr, target_resampled, n_jobs=4, cv=5)\n",
    "    mean_cv_accuracy = cv_score.mean()\n",
    "    return mean_cv_accuracy\n",
    "\n",
    "study = optuna.create_study(direction='maximize')\n",
    "study.optimize(objective, n_trials=5)\n",
    "\n",
    "# Train a new model using the best parameters\n",
    "best_model = RandomForestClassifier(random_state=42, **study.best_params)\n",
    "best_model.fit(input_feature_train_arr, target_resampled)\n",
    "\n",
    "y_pred = best_model.predict(input_feature_test_arr)\n",
    "\n",
    "test_acc = accuracy_score(y_test, y_pred)\n",
    "\n",
    "test_precision, test_recall, test_f1, _ = precision_recall_fscore_support(\n",
    "    y_test, \n",
    "    y_pred, \n",
    "    average='binary'\n",
    ")\n",
    "\n",
    "print(\"test_accuracy:\", test_acc)\n",
    "print(\"test_precision:\", test_precision)\n",
    "print(\"test_recall:\", test_recall)\n",
    "print(\"test_f1_score:\", test_f1)"
   ]
  },
  {
   "cell_type": "code",
   "execution_count": 43,
   "metadata": {},
   "outputs": [],
   "source": [
    "# study.best_params"
   ]
  },
  {
   "cell_type": "code",
   "execution_count": 44,
   "metadata": {},
   "outputs": [],
   "source": [
    "# y_pred"
   ]
  },
  {
   "cell_type": "code",
   "execution_count": 45,
   "metadata": {},
   "outputs": [],
   "source": [
    "# predictions_proba = best_model.predict_proba(input_feature_test_arr)"
   ]
  },
  {
   "cell_type": "code",
   "execution_count": 46,
   "metadata": {},
   "outputs": [],
   "source": [
    "# for item in predictions_proba[:5]:\n",
    "#     print(item)\n",
    "#     print(item.max())"
   ]
  },
  {
   "cell_type": "code",
   "execution_count": 47,
   "metadata": {},
   "outputs": [],
   "source": [
    "# predictions_proba.mean()"
   ]
  },
  {
   "cell_type": "code",
   "execution_count": null,
   "metadata": {},
   "outputs": [],
   "source": []
  }
 ],
 "metadata": {
  "kernelspec": {
   "display_name": "Python 3",
   "language": "python",
   "name": "python3"
  },
  "language_info": {
   "codemirror_mode": {
    "name": "ipython",
    "version": 3
   },
   "file_extension": ".py",
   "mimetype": "text/x-python",
   "name": "python",
   "nbconvert_exporter": "python",
   "pygments_lexer": "ipython3",
   "version": "3.12.0"
  }
 },
 "nbformat": 4,
 "nbformat_minor": 2
}
