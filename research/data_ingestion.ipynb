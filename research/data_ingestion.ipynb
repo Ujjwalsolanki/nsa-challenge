{
 "cells": [
  {
   "cell_type": "code",
   "execution_count": null,
   "metadata": {},
   "outputs": [
    {
     "data": {
      "text/plain": [
       "'d:\\\\NSA\\\\nsa-data-science-challenge\\\\research'"
      ]
     },
     "execution_count": 1,
     "metadata": {},
     "output_type": "execute_result"
    }
   ],
   "source": [
    "#nsa\n",
    "import pandas as pd\n",
    "import os\n",
    "%pwd"
   ]
  },
  {
   "cell_type": "code",
   "execution_count": 2,
   "metadata": {},
   "outputs": [],
   "source": [
    "os.chdir(\"../\")"
   ]
  },
  {
   "cell_type": "code",
   "execution_count": 3,
   "metadata": {},
   "outputs": [
    {
     "data": {
      "text/plain": [
       "'d:\\\\NSA\\\\nsa-data-science-challenge'"
      ]
     },
     "execution_count": 3,
     "metadata": {},
     "output_type": "execute_result"
    }
   ],
   "source": [
    "path = %pwd\n",
    "path"
   ]
  },
  {
   "cell_type": "code",
   "execution_count": 4,
   "metadata": {},
   "outputs": [
    {
     "data": {
      "text/plain": [
       "'d:\\\\NSA\\\\nsa-data-science-challenge\\\\data/'"
      ]
     },
     "execution_count": 4,
     "metadata": {},
     "output_type": "execute_result"
    }
   ],
   "source": [
    "folder = os.path.join(path, \"data/\")\n",
    "folder"
   ]
  },
  {
   "cell_type": "code",
   "execution_count": 5,
   "metadata": {},
   "outputs": [
    {
     "data": {
      "text/plain": [
       "['2016Q1.csv.gz',\n",
       " '2016Q2.csv.gz',\n",
       " '2016Q3.csv.gz',\n",
       " '2016Q4.csv.gz',\n",
       " '2017Q1.csv.gz',\n",
       " '2017Q2.csv.gz',\n",
       " '2017Q3.csv.gz',\n",
       " '2017Q4.csv.gz']"
      ]
     },
     "execution_count": 5,
     "metadata": {},
     "output_type": "execute_result"
    }
   ],
   "source": [
    "files = [f for f in os.listdir(folder)]\n",
    "files\n"
   ]
  },
  {
   "cell_type": "code",
   "execution_count": 6,
   "metadata": {},
   "outputs": [
    {
     "data": {
      "text/plain": [
       "'d:\\\\NSA\\\\nsa-data-science-challenge\\\\data/'"
      ]
     },
     "execution_count": 6,
     "metadata": {},
     "output_type": "execute_result"
    }
   ],
   "source": [
    "folder "
   ]
  },
  {
   "cell_type": "code",
   "execution_count": 7,
   "metadata": {},
   "outputs": [
    {
     "name": "stdout",
     "output_type": "stream",
     "text": [
      "d:\\NSA\\nsa-data-science-challenge\\data/2016Q1.csv.gz\n"
     ]
    },
    {
     "name": "stdout",
     "output_type": "stream",
     "text": [
      "(66943, 32)\n",
      "d:\\NSA\\nsa-data-science-challenge\\data/2016Q2.csv.gz\n",
      "(48927, 32)\n",
      "d:\\NSA\\nsa-data-science-challenge\\data/2016Q3.csv.gz\n",
      "(49560, 32)\n",
      "d:\\NSA\\nsa-data-science-challenge\\data/2016Q4.csv.gz\n",
      "(51773, 32)\n",
      "d:\\NSA\\nsa-data-science-challenge\\data/2017Q1.csv.gz\n",
      "(48389, 32)\n",
      "d:\\NSA\\nsa-data-science-challenge\\data/2017Q2.csv.gz\n",
      "(52725, 32)\n",
      "d:\\NSA\\nsa-data-science-challenge\\data/2017Q3.csv.gz\n",
      "(61350, 32)\n",
      "d:\\NSA\\nsa-data-science-challenge\\data/2017Q4.csv.gz\n",
      "(59324, 32)\n"
     ]
    },
    {
     "data": {
      "text/html": [
       "<div>\n",
       "<style scoped>\n",
       "    .dataframe tbody tr th:only-of-type {\n",
       "        vertical-align: middle;\n",
       "    }\n",
       "\n",
       "    .dataframe tbody tr th {\n",
       "        vertical-align: top;\n",
       "    }\n",
       "\n",
       "    .dataframe thead th {\n",
       "        text-align: right;\n",
       "    }\n",
       "</style>\n",
       "<table border=\"1\" class=\"dataframe\">\n",
       "  <thead>\n",
       "    <tr style=\"text-align: right;\">\n",
       "      <th></th>\n",
       "      <th>id</th>\n",
       "      <th>funded_amnt</th>\n",
       "      <th>term</th>\n",
       "      <th>int_rate</th>\n",
       "      <th>installment</th>\n",
       "      <th>emp_title</th>\n",
       "      <th>emp_length</th>\n",
       "      <th>home_ownership</th>\n",
       "      <th>annual_inc</th>\n",
       "      <th>loan_status</th>\n",
       "      <th>...</th>\n",
       "      <th>application_type</th>\n",
       "      <th>annual_inc_joint</th>\n",
       "      <th>dti_joint</th>\n",
       "      <th>inq_last_12m</th>\n",
       "      <th>acc_open_past_24mths</th>\n",
       "      <th>bc_util</th>\n",
       "      <th>mort_acc</th>\n",
       "      <th>num_accts_ever_120_pd</th>\n",
       "      <th>percent_bc_gt_75</th>\n",
       "      <th>total_bal_ex_mort</th>\n",
       "    </tr>\n",
       "  </thead>\n",
       "  <tbody>\n",
       "    <tr>\n",
       "      <th>0</th>\n",
       "      <td>119702702</td>\n",
       "      <td>6000</td>\n",
       "      <td>36 months</td>\n",
       "      <td>7.97%</td>\n",
       "      <td>187.94</td>\n",
       "      <td>Panel operator</td>\n",
       "      <td>&lt; 1 year</td>\n",
       "      <td>MORTGAGE</td>\n",
       "      <td>30000.0</td>\n",
       "      <td>Current</td>\n",
       "      <td>...</td>\n",
       "      <td>Joint App</td>\n",
       "      <td>83000.0</td>\n",
       "      <td>32.88</td>\n",
       "      <td>1</td>\n",
       "      <td>4</td>\n",
       "      <td>20.6</td>\n",
       "      <td>0</td>\n",
       "      <td>0</td>\n",
       "      <td>0.0</td>\n",
       "      <td>18032</td>\n",
       "    </tr>\n",
       "    <tr>\n",
       "      <th>1</th>\n",
       "      <td>122369339</td>\n",
       "      <td>10000</td>\n",
       "      <td>60 months</td>\n",
       "      <td>12.62%</td>\n",
       "      <td>225.60</td>\n",
       "      <td>MACHINIST</td>\n",
       "      <td>5 years</td>\n",
       "      <td>MORTGAGE</td>\n",
       "      <td>47300.0</td>\n",
       "      <td>Late</td>\n",
       "      <td>...</td>\n",
       "      <td>Individual</td>\n",
       "      <td>NaN</td>\n",
       "      <td>NaN</td>\n",
       "      <td>5</td>\n",
       "      <td>7</td>\n",
       "      <td>21.1</td>\n",
       "      <td>4</td>\n",
       "      <td>0</td>\n",
       "      <td>14.3</td>\n",
       "      <td>8184</td>\n",
       "    </tr>\n",
       "    <tr>\n",
       "      <th>2</th>\n",
       "      <td>124136825</td>\n",
       "      <td>1500</td>\n",
       "      <td>36 months</td>\n",
       "      <td>6.72%</td>\n",
       "      <td>46.13</td>\n",
       "      <td>Sales rep</td>\n",
       "      <td>9 years</td>\n",
       "      <td>MORTGAGE</td>\n",
       "      <td>30975.0</td>\n",
       "      <td>Current</td>\n",
       "      <td>...</td>\n",
       "      <td>Individual</td>\n",
       "      <td>NaN</td>\n",
       "      <td>NaN</td>\n",
       "      <td>0</td>\n",
       "      <td>0</td>\n",
       "      <td>19.1</td>\n",
       "      <td>1</td>\n",
       "      <td>0</td>\n",
       "      <td>0.0</td>\n",
       "      <td>537</td>\n",
       "    </tr>\n",
       "    <tr>\n",
       "      <th>3</th>\n",
       "      <td>124065154</td>\n",
       "      <td>8400</td>\n",
       "      <td>36 months</td>\n",
       "      <td>9.93%</td>\n",
       "      <td>270.77</td>\n",
       "      <td>NaN</td>\n",
       "      <td>NaN</td>\n",
       "      <td>RENT</td>\n",
       "      <td>18000.0</td>\n",
       "      <td>Fully Paid</td>\n",
       "      <td>...</td>\n",
       "      <td>Individual</td>\n",
       "      <td>NaN</td>\n",
       "      <td>NaN</td>\n",
       "      <td>0</td>\n",
       "      <td>4</td>\n",
       "      <td>26.6</td>\n",
       "      <td>0</td>\n",
       "      <td>0</td>\n",
       "      <td>25.0</td>\n",
       "      <td>10176</td>\n",
       "    </tr>\n",
       "    <tr>\n",
       "      <th>4</th>\n",
       "      <td>119971787</td>\n",
       "      <td>24000</td>\n",
       "      <td>36 months</td>\n",
       "      <td>12.62%</td>\n",
       "      <td>804.27</td>\n",
       "      <td>Owner</td>\n",
       "      <td>&lt; 1 year</td>\n",
       "      <td>RENT</td>\n",
       "      <td>20000.0</td>\n",
       "      <td>Current</td>\n",
       "      <td>...</td>\n",
       "      <td>Joint App</td>\n",
       "      <td>70000.0</td>\n",
       "      <td>22.73</td>\n",
       "      <td>0</td>\n",
       "      <td>4</td>\n",
       "      <td>6.7</td>\n",
       "      <td>0</td>\n",
       "      <td>0</td>\n",
       "      <td>0.0</td>\n",
       "      <td>690</td>\n",
       "    </tr>\n",
       "  </tbody>\n",
       "</table>\n",
       "<p>5 rows × 32 columns</p>\n",
       "</div>"
      ],
      "text/plain": [
       "          id  funded_amnt        term int_rate  installment       emp_title  \\\n",
       "0  119702702         6000   36 months    7.97%       187.94  Panel operator   \n",
       "1  122369339        10000   60 months   12.62%       225.60       MACHINIST   \n",
       "2  124136825         1500   36 months    6.72%        46.13      Sales rep    \n",
       "3  124065154         8400   36 months    9.93%       270.77             NaN   \n",
       "4  119971787        24000   36 months   12.62%       804.27           Owner   \n",
       "\n",
       "  emp_length home_ownership  annual_inc loan_status  ... application_type  \\\n",
       "0   < 1 year       MORTGAGE     30000.0     Current  ...        Joint App   \n",
       "1    5 years       MORTGAGE     47300.0        Late  ...       Individual   \n",
       "2    9 years       MORTGAGE     30975.0     Current  ...       Individual   \n",
       "3        NaN           RENT     18000.0  Fully Paid  ...       Individual   \n",
       "4   < 1 year           RENT     20000.0     Current  ...        Joint App   \n",
       "\n",
       "  annual_inc_joint dti_joint  inq_last_12m  acc_open_past_24mths bc_util  \\\n",
       "0          83000.0     32.88             1                     4    20.6   \n",
       "1              NaN       NaN             5                     7    21.1   \n",
       "2              NaN       NaN             0                     0    19.1   \n",
       "3              NaN       NaN             0                     4    26.6   \n",
       "4          70000.0     22.73             0                     4     6.7   \n",
       "\n",
       "   mort_acc  num_accts_ever_120_pd  percent_bc_gt_75  total_bal_ex_mort  \n",
       "0         0                      0               0.0              18032  \n",
       "1         4                      0              14.3               8184  \n",
       "2         1                      0               0.0                537  \n",
       "3         0                      0              25.0              10176  \n",
       "4         0                      0               0.0                690  \n",
       "\n",
       "[5 rows x 32 columns]"
      ]
     },
     "execution_count": 7,
     "metadata": {},
     "output_type": "execute_result"
    }
   ],
   "source": [
    "import pandas as pd\n",
    "\n",
    "df_list = []\n",
    "for file in files:\n",
    "    print(os.path.join(folder + file))\n",
    "    df = pd.read_csv(os.path.join(folder + file), compression='gzip')\n",
    "    print(df.shape)\n",
    "    df_list.append(df)\n",
    "    # print(df_list)\n",
    "\n",
    "big_df = pd.concat(df_list, ignore_index=True)\n",
    "\n",
    "big_df.to_csv(\"research/extracted_files/data.csv\", index=False)\n",
    "\n",
    "df.head()"
   ]
  },
  {
   "cell_type": "code",
   "execution_count": 8,
   "metadata": {},
   "outputs": [
    {
     "data": {
      "text/plain": [
       "np.int64(0)"
      ]
     },
     "execution_count": 8,
     "metadata": {},
     "output_type": "execute_result"
    }
   ],
   "source": [
    "big_df.duplicated().sum()\n"
   ]
  },
  {
   "cell_type": "code",
   "execution_count": 9,
   "metadata": {},
   "outputs": [
    {
     "data": {
      "text/plain": [
       "id                             0\n",
       "funded_amnt                    0\n",
       "term                           0\n",
       "int_rate                       0\n",
       "installment                    0\n",
       "emp_title                  30367\n",
       "emp_length                 30013\n",
       "home_ownership                 0\n",
       "annual_inc                     0\n",
       "loan_status                    0\n",
       "purpose                        0\n",
       "zip_code                       0\n",
       "addr_state                     0\n",
       "dti                          285\n",
       "delinq_2yrs                    0\n",
       "earliest_cr_line               0\n",
       "fico_range_high                0\n",
       "mths_since_last_delinq    213676\n",
       "open_acc                       0\n",
       "revol_bal                      0\n",
       "revol_util                   359\n",
       "total_acc                      0\n",
       "application_type               0\n",
       "annual_inc_joint          413182\n",
       "dti_joint                 413183\n",
       "inq_last_12m                  27\n",
       "acc_open_past_24mths           0\n",
       "bc_util                     5389\n",
       "mort_acc                       0\n",
       "num_accts_ever_120_pd          0\n",
       "percent_bc_gt_75            5217\n",
       "total_bal_ex_mort              0\n",
       "dtype: int64"
      ]
     },
     "execution_count": 9,
     "metadata": {},
     "output_type": "execute_result"
    }
   ],
   "source": [
    "big_df.isna().sum()"
   ]
  },
  {
   "cell_type": "code",
   "execution_count": 10,
   "metadata": {},
   "outputs": [
    {
     "data": {
      "text/plain": [
       "array(['debt_consolidation', 'home_improvement', 'credit_card', 'other',\n",
       "       'small_business', 'car', 'vacation', 'major_purchase', 'house',\n",
       "       'medical', 'moving', 'renewable_energy', 'wedding', 'educational'],\n",
       "      dtype=object)"
      ]
     },
     "execution_count": 10,
     "metadata": {},
     "output_type": "execute_result"
    }
   ],
   "source": [
    "big_df[\"purpose\"].unique()"
   ]
  },
  {
   "cell_type": "code",
   "execution_count": 11,
   "metadata": {},
   "outputs": [
    {
     "data": {
      "text/plain": [
       "Index(['id', 'funded_amnt', 'term', 'int_rate', 'installment', 'emp_title',\n",
       "       'emp_length', 'home_ownership', 'annual_inc', 'loan_status', 'purpose',\n",
       "       'zip_code', 'addr_state', 'dti', 'delinq_2yrs', 'earliest_cr_line',\n",
       "       'fico_range_high', 'mths_since_last_delinq', 'open_acc', 'revol_bal',\n",
       "       'revol_util', 'total_acc', 'application_type', 'annual_inc_joint',\n",
       "       'dti_joint', 'inq_last_12m', 'acc_open_past_24mths', 'bc_util',\n",
       "       'mort_acc', 'num_accts_ever_120_pd', 'percent_bc_gt_75',\n",
       "       'total_bal_ex_mort'],\n",
       "      dtype='object')"
      ]
     },
     "execution_count": 11,
     "metadata": {},
     "output_type": "execute_result"
    }
   ],
   "source": [
    "big_df.columns.unique()"
   ]
  },
  {
   "cell_type": "code",
   "execution_count": 12,
   "metadata": {},
   "outputs": [
    {
     "data": {
      "text/plain": [
       "id                             0\n",
       "funded_amnt                    0\n",
       "term                           0\n",
       "int_rate                       0\n",
       "installment                    0\n",
       "emp_title                  30367\n",
       "emp_length                 30013\n",
       "home_ownership                 0\n",
       "annual_inc                     0\n",
       "loan_status                    0\n",
       "purpose                        0\n",
       "zip_code                       0\n",
       "addr_state                     0\n",
       "dti                          285\n",
       "delinq_2yrs                    0\n",
       "earliest_cr_line               0\n",
       "fico_range_high                0\n",
       "mths_since_last_delinq    213676\n",
       "open_acc                       0\n",
       "revol_bal                      0\n",
       "revol_util                   359\n",
       "total_acc                      0\n",
       "application_type               0\n",
       "annual_inc_joint          413182\n",
       "dti_joint                 413183\n",
       "inq_last_12m                  27\n",
       "acc_open_past_24mths           0\n",
       "bc_util                     5389\n",
       "mort_acc                       0\n",
       "num_accts_ever_120_pd          0\n",
       "percent_bc_gt_75            5217\n",
       "total_bal_ex_mort              0\n",
       "dtype: int64"
      ]
     },
     "execution_count": 12,
     "metadata": {},
     "output_type": "execute_result"
    }
   ],
   "source": [
    "big_df.isna().sum()"
   ]
  },
  {
   "cell_type": "code",
   "execution_count": 13,
   "metadata": {},
   "outputs": [
    {
     "data": {
      "text/plain": [
       "np.int64(413183)"
      ]
     },
     "execution_count": 13,
     "metadata": {},
     "output_type": "execute_result"
    }
   ],
   "source": [
    "big_df[\"dti_joint\"].isna().sum()"
   ]
  },
  {
   "cell_type": "code",
   "execution_count": 14,
   "metadata": {},
   "outputs": [],
   "source": [
    "import seaborn as sns\n",
    "import matplotlib.pyplot as plt\n",
    "%matplotlib inline\n",
    "\n"
   ]
  },
  {
   "cell_type": "code",
   "execution_count": null,
   "metadata": {},
   "outputs": [],
   "source": []
  },
  {
   "cell_type": "code",
   "execution_count": 15,
   "metadata": {},
   "outputs": [
    {
     "data": {
      "text/plain": [
       "<seaborn.axisgrid.PairGrid at 0x1816ed15c40>"
      ]
     },
     "execution_count": 15,
     "metadata": {},
     "output_type": "execute_result"
    },
    {
     "data": {
      "image/png": "[encoded data removed]",
      "text/plain": [
       "<Figure size 500x500 with 6 Axes>"
      ]
     },
     "metadata": {},
     "output_type": "display_data"
    }
   ],
   "source": [
    "sns.pairplot(df, vars=['dti_joint', 'loan_status'])\n"
   ]
  },
  {
   "cell_type": "code",
   "execution_count": 16,
   "metadata": {},
   "outputs": [],
   "source": [
    "# from ydata_profiling import ProfileReport\n",
    "# profile = ProfileReport(big_df, title=\"Profiling Report\")\n",
    "\n",
    "# profile.to_file(\"./artifacts/Profile_report.html\")"
   ]
  },
  {
   "cell_type": "code",
   "execution_count": null,
   "metadata": {},
   "outputs": [],
   "source": []
  }
 ],
 "metadata": {
  "kernelspec": {
   "display_name": "Python 3",
   "language": "python",
   "name": "python3"
  },
  "language_info": {
   "codemirror_mode": {
    "name": "ipython",
    "version": 3
   },
   "file_extension": ".py",
   "mimetype": "text/x-python",
   "name": "python",
   "nbconvert_exporter": "python",
   "pygments_lexer": "ipython3",
   "version": "3.12.0"
  },
  "widgets": {
   "application/vnd.jupyter.widget-state+json": {
    "state": {
     "07de7855421c4e0980ff8698245dd82e": {
      "model_module": "@jupyter-widgets/controls",
      "model_module_version": "2.0.0",
      "model_name": "HTMLModel",
      "state": {
       "layout": "IPY_MODEL_1230852dce0b41bb953e546b853ad151",
       "style": "IPY_MODEL_4c3db1bbf7b143fca426eb86e7262467",
       "value": "Generate report structure: 100%"
      }
     },
     "0abe74c6d5ec4b06b22ce1d4ca9610ea": {
      "model_module": "@jupyter-widgets/base",
      "model_module_version": "2.0.0",
      "model_name": "LayoutModel",
      "state": {}
     },
     "11632feaba664de1b619c311d835a0c6": {
      "model_module": "@jupyter-widgets/controls",
      "model_module_version": "2.0.0",
      "model_name": "HTMLStyleModel",
      "state": {
       "description_width": "",
       "font_size": null,
       "text_color": null
      }
     },
     "1230852dce0b41bb953e546b853ad151": {
      "model_module": "@jupyter-widgets/base",
      "model_module_version": "2.0.0",
      "model_name": "LayoutModel",
      "state": {}
     },
     "2479186ce2c64e1ca93b11572c674a79": {
      "model_module": "@jupyter-widgets/base",
      "model_module_version": "2.0.0",
      "model_name": "LayoutModel",
      "state": {}
     },
     "2a8518b2425a4f6a98c4146a59bd6015": {
      "model_module": "@jupyter-widgets/controls",
      "model_module_version": "2.0.0",
      "model_name": "HTMLModel",
      "state": {
       "layout": "IPY_MODEL_c5b6bcd4202349f09f0d116f8d33420a",
       "style": "IPY_MODEL_908c76949a404ef8aa4f11ab9dd55b77",
       "value": "Render HTML: 100%"
      }
     },
     "3b4da689e11f40a4aa78dd5f07b13a31": {
      "model_module": "@jupyter-widgets/base",
      "model_module_version": "2.0.0",
      "model_name": "LayoutModel",
      "state": {}
     },
     "3c3400f0e62d4badb20e17af86fa7bb8": {
      "model_module": "@jupyter-widgets/base",
      "model_module_version": "2.0.0",
      "model_name": "LayoutModel",
      "state": {}
     },
     "482cb10b4a3f4835895ae88bf6174af1": {
      "model_module": "@jupyter-widgets/controls",
      "model_module_version": "2.0.0",
      "model_name": "HBoxModel",
      "state": {
       "children": [
        "IPY_MODEL_b4b7383f24d342fb8e28a9be957b7e26",
        "IPY_MODEL_956bfb17b8ae4447848780ed1432d52b",
        "IPY_MODEL_8c656607d7334a62993a00f7252f133f"
       ],
       "layout": "IPY_MODEL_3b4da689e11f40a4aa78dd5f07b13a31"
      }
     },
     "4889654508a44e9f8a0755fb5825220e": {
      "model_module": "@jupyter-widgets/base",
      "model_module_version": "2.0.0",
      "model_name": "LayoutModel",
      "state": {}
     },
     "4aa2067a73c6426faa5421078d3b8d32": {
      "model_module": "@jupyter-widgets/base",
      "model_module_version": "2.0.0",
      "model_name": "LayoutModel",
      "state": {}
     },
     "4c3db1bbf7b143fca426eb86e7262467": {
      "model_module": "@jupyter-widgets/controls",
      "model_module_version": "2.0.0",
      "model_name": "HTMLStyleModel",
      "state": {
       "description_width": "",
       "font_size": null,
       "text_color": null
      }
     },
     "50f2a73571bd4d7c99c32fe16f6cbfa9": {
      "model_module": "@jupyter-widgets/controls",
      "model_module_version": "2.0.0",
      "model_name": "FloatProgressModel",
      "state": {
       "bar_style": "success",
       "layout": "IPY_MODEL_d3821f4781bb490792863cc6fcfa4c41",
       "max": 1,
       "style": "IPY_MODEL_e59d84b4b83840b691a72ff841d8e32a",
       "value": 1
      }
     },
     "5b7f381d0d644cd1ab2a2cb4c78a253d": {
      "model_module": "@jupyter-widgets/base",
      "model_module_version": "2.0.0",
      "model_name": "LayoutModel",
      "state": {}
     },
     "66f21c8191ee4ea3ae80c64768e836cb": {
      "model_module": "@jupyter-widgets/controls",
      "model_module_version": "2.0.0",
      "model_name": "ProgressStyleModel",
      "state": {
       "description_width": ""
      }
     },
     "6b4823a77d384aba81f630361b4d4cbe": {
      "model_module": "@jupyter-widgets/controls",
      "model_module_version": "2.0.0",
      "model_name": "HBoxModel",
      "state": {
       "children": [
        "IPY_MODEL_07de7855421c4e0980ff8698245dd82e",
        "IPY_MODEL_50f2a73571bd4d7c99c32fe16f6cbfa9",
        "IPY_MODEL_7804d379758849f49b6d47b9b1c304d7"
       ],
       "layout": "IPY_MODEL_5b7f381d0d644cd1ab2a2cb4c78a253d"
      }
     },
     "759999ed018348e79fd09494f71870ae": {
      "model_module": "@jupyter-widgets/controls",
      "model_module_version": "2.0.0",
      "model_name": "HTMLStyleModel",
      "state": {
       "description_width": "",
       "font_size": null,
       "text_color": null
      }
     },
     "7804d379758849f49b6d47b9b1c304d7": {
      "model_module": "@jupyter-widgets/controls",
      "model_module_version": "2.0.0",
      "model_name": "HTMLModel",
      "state": {
       "layout": "IPY_MODEL_d33f1f4341b04062a247a93f7f01c3d8",
       "style": "IPY_MODEL_c3c6fdc084704fd4ae01b4053b95e6a3",
       "value": " 1/1 [00:10&lt;00:00, 10.51s/it]"
      }
     },
     "80a99d78ea9243a091a42c7f0a8cce03": {
      "model_module": "@jupyter-widgets/controls",
      "model_module_version": "2.0.0",
      "model_name": "HTMLStyleModel",
      "state": {
       "description_width": "",
       "font_size": null,
       "text_color": null
      }
     },
     "8c656607d7334a62993a00f7252f133f": {
      "model_module": "@jupyter-widgets/controls",
      "model_module_version": "2.0.0",
      "model_name": "HTMLModel",
      "state": {
       "layout": "IPY_MODEL_4aa2067a73c6426faa5421078d3b8d32",
       "style": "IPY_MODEL_80a99d78ea9243a091a42c7f0a8cce03",
       "value": " 402/402 [01:38&lt;00:00,  1.78it/s, Completed]"
      }
     },
     "908c76949a404ef8aa4f11ab9dd55b77": {
      "model_module": "@jupyter-widgets/controls",
      "model_module_version": "2.0.0",
      "model_name": "HTMLStyleModel",
      "state": {
       "description_width": "",
       "font_size": null,
       "text_color": null
      }
     },
     "956bfb17b8ae4447848780ed1432d52b": {
      "model_module": "@jupyter-widgets/controls",
      "model_module_version": "2.0.0",
      "model_name": "FloatProgressModel",
      "state": {
       "bar_style": "success",
       "layout": "IPY_MODEL_4889654508a44e9f8a0755fb5825220e",
       "max": 5,
       "style": "IPY_MODEL_66f21c8191ee4ea3ae80c64768e836cb",
       "value": 5
      }
     },
     "98ac92cdb0a94a169cb434410dc628b8": {
      "model_module": "@jupyter-widgets/base",
      "model_module_version": "2.0.0",
      "model_name": "LayoutModel",
      "state": {}
     },
     "a19894fd3e34417ca3003edccf93e3bf": {
      "model_module": "@jupyter-widgets/controls",
      "model_module_version": "2.0.0",
      "model_name": "HBoxModel",
      "state": {
       "children": [
        "IPY_MODEL_2a8518b2425a4f6a98c4146a59bd6015",
        "IPY_MODEL_e3eb9bbfdb414983b001b8464c92d50f",
        "IPY_MODEL_a926dc5edeea4444a7505854be8e3f99"
       ],
       "layout": "IPY_MODEL_3c3400f0e62d4badb20e17af86fa7bb8"
      }
     },
     "a926dc5edeea4444a7505854be8e3f99": {
      "model_module": "@jupyter-widgets/controls",
      "model_module_version": "2.0.0",
      "model_name": "HTMLModel",
      "state": {
       "layout": "IPY_MODEL_2479186ce2c64e1ca93b11572c674a79",
       "style": "IPY_MODEL_759999ed018348e79fd09494f71870ae",
       "value": " 1/1 [00:08&lt;00:00,  8.45s/it]"
      }
     },
     "ac1b4949e32340f590e0af96c4fd00b5": {
      "model_module": "@jupyter-widgets/controls",
      "model_module_version": "2.0.0",
      "model_name": "ProgressStyleModel",
      "state": {
       "description_width": ""
      }
     },
     "b4b7383f24d342fb8e28a9be957b7e26": {
      "model_module": "@jupyter-widgets/controls",
      "model_module_version": "2.0.0",
      "model_name": "HTMLModel",
      "state": {
       "layout": "IPY_MODEL_98ac92cdb0a94a169cb434410dc628b8",
       "style": "IPY_MODEL_11632feaba664de1b619c311d835a0c6",
       "value": "Summarize dataset: 100%"
      }
     },
     "c3c6fdc084704fd4ae01b4053b95e6a3": {
      "model_module": "@jupyter-widgets/controls",
      "model_module_version": "2.0.0",
      "model_name": "HTMLStyleModel",
      "state": {
       "description_width": "",
       "font_size": null,
       "text_color": null
      }
     },
     "c5b6bcd4202349f09f0d116f8d33420a": {
      "model_module": "@jupyter-widgets/base",
      "model_module_version": "2.0.0",
      "model_name": "LayoutModel",
      "state": {}
     },
     "d33f1f4341b04062a247a93f7f01c3d8": {
      "model_module": "@jupyter-widgets/base",
      "model_module_version": "2.0.0",
      "model_name": "LayoutModel",
      "state": {}
     },
     "d3821f4781bb490792863cc6fcfa4c41": {
      "model_module": "@jupyter-widgets/base",
      "model_module_version": "2.0.0",
      "model_name": "LayoutModel",
      "state": {}
     },
     "e3eb9bbfdb414983b001b8464c92d50f": {
      "model_module": "@jupyter-widgets/controls",
      "model_module_version": "2.0.0",
      "model_name": "FloatProgressModel",
      "state": {
       "bar_style": "success",
       "layout": "IPY_MODEL_0abe74c6d5ec4b06b22ce1d4ca9610ea",
       "max": 1,
       "style": "IPY_MODEL_ac1b4949e32340f590e0af96c4fd00b5",
       "value": 1
      }
     },
     "e59d84b4b83840b691a72ff841d8e32a": {
      "model_module": "@jupyter-widgets/controls",
      "model_module_version": "2.0.0",
      "model_name": "ProgressStyleModel",
      "state": {
       "description_width": ""
      }
     }
    },
    "version_major": 2,
    "version_minor": 0
   }
  }
 },
 "nbformat": 4,
 "nbformat_minor": 4
}
